{
 "cells": [
  {
   "cell_type": "code",
   "execution_count": 57,
   "metadata": {},
   "outputs": [],
   "source": [
    "import pandas as pd\n",
    "import numpy as np\n",
    "\n",
    "import xgboost as xgb\n",
    "from xgboost.sklearn import XGBClassifier\n",
    "\n",
    "from sklearn import metrics\n",
    "from sklearn.metrics import roc_auc_score\n",
    "import matplotlib.pyplot as plt\n",
    "\n",
    "# библиотека для преобразованя категориальных признаков\n",
    "from sklearn.preprocessing import OneHotEncoder, LabelEncoder \n",
    "\n",
    "from sklearn.metrics import confusion_matrix, plot_confusion_matrix\n",
    "\n",
    "from sklearn.ensemble import RandomForestClassifier"
   ]
  },
  {
   "cell_type": "code",
   "execution_count": 58,
   "metadata": {},
   "outputs": [],
   "source": [
    "df = pd.read_csv('dataset.csv', sep=',')"
   ]
  },
  {
   "cell_type": "code",
   "execution_count": 59,
   "metadata": {
    "scrolled": true
   },
   "outputs": [
    {
     "data": {
      "text/html": [
       "<div>\n",
       "<style scoped>\n",
       "    .dataframe tbody tr th:only-of-type {\n",
       "        vertical-align: middle;\n",
       "    }\n",
       "\n",
       "    .dataframe tbody tr th {\n",
       "        vertical-align: top;\n",
       "    }\n",
       "\n",
       "    .dataframe thead th {\n",
       "        text-align: right;\n",
       "    }\n",
       "</style>\n",
       "<table border=\"1\" class=\"dataframe\">\n",
       "  <thead>\n",
       "    <tr style=\"text-align: right;\">\n",
       "      <th></th>\n",
       "      <th>client_id</th>\n",
       "      <th>date_reg</th>\n",
       "      <th>market</th>\n",
       "      <th>group</th>\n",
       "      <th>archetype</th>\n",
       "      <th>hardware</th>\n",
       "      <th>channel</th>\n",
       "      <th>dealer</th>\n",
       "      <th>phone</th>\n",
       "      <th>type_t</th>\n",
       "      <th>...</th>\n",
       "      <th>all_calls_num</th>\n",
       "      <th>all_calls_dur</th>\n",
       "      <th>quantity_recharge</th>\n",
       "      <th>recharges_sum</th>\n",
       "      <th>last_day_recharge</th>\n",
       "      <th>mean_recharges_sum</th>\n",
       "      <th>mean_balance</th>\n",
       "      <th>start_balance</th>\n",
       "      <th>final_balance</th>\n",
       "      <th>difference_balance</th>\n",
       "    </tr>\n",
       "  </thead>\n",
       "  <tbody>\n",
       "    <tr>\n",
       "      <th>0</th>\n",
       "      <td>09777552-cc75-4f03-9438-11c3a7480f97</td>\n",
       "      <td>2016-05-10</td>\n",
       "      <td>R25</td>\n",
       "      <td>PP1_9</td>\n",
       "      <td>PP2_0</td>\n",
       "      <td>PPT1</td>\n",
       "      <td>C1_22</td>\n",
       "      <td>C2_22</td>\n",
       "      <td>D2254</td>\n",
       "      <td>DT1_6</td>\n",
       "      <td>...</td>\n",
       "      <td>19.0</td>\n",
       "      <td>6506.0</td>\n",
       "      <td>1.0</td>\n",
       "      <td>1001.11200</td>\n",
       "      <td>1.0</td>\n",
       "      <td>1001.112000</td>\n",
       "      <td>1202.535734</td>\n",
       "      <td>2269.187200</td>\n",
       "      <td>1.334816</td>\n",
       "      <td>-2267.852384</td>\n",
       "    </tr>\n",
       "    <tr>\n",
       "      <th>1</th>\n",
       "      <td>5fbe2ea9-0c80-4164-b703-416b85c23d8c</td>\n",
       "      <td>2016-04-19</td>\n",
       "      <td>R25</td>\n",
       "      <td>PP1_9</td>\n",
       "      <td>PP2_0</td>\n",
       "      <td>PPT1</td>\n",
       "      <td>C1_6</td>\n",
       "      <td>C2_0</td>\n",
       "      <td>NAN</td>\n",
       "      <td>NAN</td>\n",
       "      <td>...</td>\n",
       "      <td>546.0</td>\n",
       "      <td>27599.0</td>\n",
       "      <td>2.0</td>\n",
       "      <td>5526.13824</td>\n",
       "      <td>13.0</td>\n",
       "      <td>2763.069120</td>\n",
       "      <td>1006.985190</td>\n",
       "      <td>2378.642112</td>\n",
       "      <td>447.830768</td>\n",
       "      <td>-1930.811344</td>\n",
       "    </tr>\n",
       "    <tr>\n",
       "      <th>2</th>\n",
       "      <td>8cbd48c0-8f90-4f08-bef7-8f09d9924e55</td>\n",
       "      <td>2016-05-19</td>\n",
       "      <td>R25</td>\n",
       "      <td>PP1_9</td>\n",
       "      <td>PP2_0</td>\n",
       "      <td>PPT1</td>\n",
       "      <td>C1_6</td>\n",
       "      <td>C2_0</td>\n",
       "      <td>D2594</td>\n",
       "      <td>DT1_6</td>\n",
       "      <td>...</td>\n",
       "      <td>476.0</td>\n",
       "      <td>141308.0</td>\n",
       "      <td>9.0</td>\n",
       "      <td>7014.45808</td>\n",
       "      <td>30.0</td>\n",
       "      <td>779.384231</td>\n",
       "      <td>291.946506</td>\n",
       "      <td>1134.593600</td>\n",
       "      <td>1355.505648</td>\n",
       "      <td>220.912048</td>\n",
       "    </tr>\n",
       "    <tr>\n",
       "      <th>3</th>\n",
       "      <td>ffda8d15-cd38-45c3-84ba-29a9811ed79e</td>\n",
       "      <td>2016-05-28</td>\n",
       "      <td>R25</td>\n",
       "      <td>PP1_9</td>\n",
       "      <td>PP2_0</td>\n",
       "      <td>PPT1</td>\n",
       "      <td>C1_22</td>\n",
       "      <td>C2_11</td>\n",
       "      <td>D3131</td>\n",
       "      <td>DT1_6</td>\n",
       "      <td>...</td>\n",
       "      <td>31.0</td>\n",
       "      <td>2931.0</td>\n",
       "      <td>0.0</td>\n",
       "      <td>0.00000</td>\n",
       "      <td>0.0</td>\n",
       "      <td>0.000000</td>\n",
       "      <td>406.673941</td>\n",
       "      <td>1268.075200</td>\n",
       "      <td>-40.044480</td>\n",
       "      <td>-1308.119680</td>\n",
       "    </tr>\n",
       "    <tr>\n",
       "      <th>4</th>\n",
       "      <td>1f9618ad-a980-4110-af32-9741e491a728</td>\n",
       "      <td>2016-05-23</td>\n",
       "      <td>R4</td>\n",
       "      <td>PP1_9</td>\n",
       "      <td>PP2_0</td>\n",
       "      <td>PPT1</td>\n",
       "      <td>C1_28</td>\n",
       "      <td>C2_21</td>\n",
       "      <td>D454</td>\n",
       "      <td>DT1_6</td>\n",
       "      <td>...</td>\n",
       "      <td>9.0</td>\n",
       "      <td>213.0</td>\n",
       "      <td>1.0</td>\n",
       "      <td>6674.08000</td>\n",
       "      <td>1.0</td>\n",
       "      <td>6674.080000</td>\n",
       "      <td>0.000000</td>\n",
       "      <td>0.000000</td>\n",
       "      <td>0.000000</td>\n",
       "      <td>0.000000</td>\n",
       "    </tr>\n",
       "  </tbody>\n",
       "</table>\n",
       "<p>5 rows × 32 columns</p>\n",
       "</div>"
      ],
      "text/plain": [
       "                              client_id    date_reg market  group archetype  \\\n",
       "0  09777552-cc75-4f03-9438-11c3a7480f97  2016-05-10    R25  PP1_9     PP2_0   \n",
       "1  5fbe2ea9-0c80-4164-b703-416b85c23d8c  2016-04-19    R25  PP1_9     PP2_0   \n",
       "2  8cbd48c0-8f90-4f08-bef7-8f09d9924e55  2016-05-19    R25  PP1_9     PP2_0   \n",
       "3  ffda8d15-cd38-45c3-84ba-29a9811ed79e  2016-05-28    R25  PP1_9     PP2_0   \n",
       "4  1f9618ad-a980-4110-af32-9741e491a728  2016-05-23     R4  PP1_9     PP2_0   \n",
       "\n",
       "  hardware channel dealer  phone type_t  ... all_calls_num  all_calls_dur  \\\n",
       "0     PPT1   C1_22  C2_22  D2254  DT1_6  ...          19.0         6506.0   \n",
       "1     PPT1    C1_6   C2_0    NAN    NAN  ...         546.0        27599.0   \n",
       "2     PPT1    C1_6   C2_0  D2594  DT1_6  ...         476.0       141308.0   \n",
       "3     PPT1   C1_22  C2_11  D3131  DT1_6  ...          31.0         2931.0   \n",
       "4     PPT1   C1_28  C2_21   D454  DT1_6  ...           9.0          213.0   \n",
       "\n",
       "   quantity_recharge  recharges_sum  last_day_recharge  mean_recharges_sum  \\\n",
       "0                1.0     1001.11200                1.0         1001.112000   \n",
       "1                2.0     5526.13824               13.0         2763.069120   \n",
       "2                9.0     7014.45808               30.0          779.384231   \n",
       "3                0.0        0.00000                0.0            0.000000   \n",
       "4                1.0     6674.08000                1.0         6674.080000   \n",
       "\n",
       "   mean_balance  start_balance  final_balance  difference_balance  \n",
       "0   1202.535734    2269.187200       1.334816        -2267.852384  \n",
       "1   1006.985190    2378.642112     447.830768        -1930.811344  \n",
       "2    291.946506    1134.593600    1355.505648          220.912048  \n",
       "3    406.673941    1268.075200     -40.044480        -1308.119680  \n",
       "4      0.000000       0.000000       0.000000            0.000000  \n",
       "\n",
       "[5 rows x 32 columns]"
      ]
     },
     "execution_count": 59,
     "metadata": {},
     "output_type": "execute_result"
    }
   ],
   "source": [
    "df.head()"
   ]
  },
  {
   "cell_type": "code",
   "execution_count": 60,
   "metadata": {},
   "outputs": [],
   "source": [
    "# приведение дат к нужному типу\n",
    "df['date_reg'] = pd.to_datetime(df['date_reg'], format=\"%Y-%m-%d\")"
   ]
  },
  {
   "cell_type": "code",
   "execution_count": 61,
   "metadata": {
    "scrolled": true
   },
   "outputs": [
    {
     "name": "stdout",
     "output_type": "stream",
     "text": [
      "<class 'pandas.core.frame.DataFrame'>\n",
      "RangeIndex: 240000 entries, 0 to 239999\n",
      "Data columns (total 32 columns):\n",
      " #   Column                 Non-Null Count   Dtype         \n",
      "---  ------                 --------------   -----         \n",
      " 0   client_id              240000 non-null  object        \n",
      " 1   date_reg               240000 non-null  datetime64[ns]\n",
      " 2   market                 240000 non-null  object        \n",
      " 3   group                  240000 non-null  object        \n",
      " 4   archetype              240000 non-null  object        \n",
      " 5   hardware               240000 non-null  object        \n",
      " 6   channel                240000 non-null  object        \n",
      " 7   dealer                 240000 non-null  object        \n",
      " 8   phone                  240000 non-null  object        \n",
      " 9   type_t                 240000 non-null  object        \n",
      " 10  device                 240000 non-null  object        \n",
      " 11  churn                  240000 non-null  int64         \n",
      " 12  quantity_days_traffic  240000 non-null  int64         \n",
      " 13  all_call_in_num        240000 non-null  float64       \n",
      " 14  all_call_out_num       240000 non-null  float64       \n",
      " 15  all_call_in_dur        240000 non-null  float64       \n",
      " 16  all_call_out_dur       240000 non-null  float64       \n",
      " 17  all_out_sms            240000 non-null  float64       \n",
      " 18  all_gprs               240000 non-null  float64       \n",
      " 19  last_day_traffic       240000 non-null  int64         \n",
      " 20  mean_call_in_dur       240000 non-null  float64       \n",
      " 21  mean_call_out_dur      240000 non-null  float64       \n",
      " 22  all_calls_num          240000 non-null  float64       \n",
      " 23  all_calls_dur          240000 non-null  float64       \n",
      " 24  quantity_recharge      240000 non-null  float64       \n",
      " 25  recharges_sum          240000 non-null  float64       \n",
      " 26  last_day_recharge      240000 non-null  float64       \n",
      " 27  mean_recharges_sum     240000 non-null  float64       \n",
      " 28  mean_balance           240000 non-null  float64       \n",
      " 29  start_balance          240000 non-null  float64       \n",
      " 30  final_balance          240000 non-null  float64       \n",
      " 31  difference_balance     240000 non-null  float64       \n",
      "dtypes: datetime64[ns](1), float64(18), int64(3), object(10)\n",
      "memory usage: 58.6+ MB\n"
     ]
    }
   ],
   "source": [
    "df.info()"
   ]
  },
  {
   "cell_type": "markdown",
   "metadata": {},
   "source": [
    "# Кодирование категориальных признаков\n",
    "2 варианта: \n",
    "- Dummy\n",
    "- LabelEncoder"
   ]
  },
  {
   "cell_type": "code",
   "execution_count": 62,
   "metadata": {},
   "outputs": [],
   "source": [
    "df['date_reg_cat_feat'] = df['date_reg']"
   ]
  },
  {
   "cell_type": "code",
   "execution_count": 63,
   "metadata": {},
   "outputs": [],
   "source": [
    "# список категориальных признаков\n",
    "cat_feat = ['market', 'group', 'archetype', 'hardware', 'channel', 'dealer', 'phone', 'type_t', 'device', 'date_reg_cat_feat']"
   ]
  },
  {
   "cell_type": "code",
   "execution_count": 64,
   "metadata": {},
   "outputs": [
    {
     "name": "stdout",
     "output_type": "stream",
     "text": [
      "Количество унакальных значений категориальных признаков:\n",
      "market  :  84\n",
      "group  :  46\n",
      "archetype  :  17\n",
      "hardware  :  2\n",
      "channel  :  35\n",
      "dealer  :  24\n",
      "phone  :  3353\n",
      "type_t  :  14\n",
      "device  :  8\n",
      "date_reg_cat_feat  :  61\n"
     ]
    }
   ],
   "source": [
    "# количество унакальных значений  категориальных признаков\n",
    "print('Количество унакальных значений категориальных признаков:')\n",
    "for i in cat_feat:\n",
    "      print(i, ' : ', len(set(df[i].tolist())))"
   ]
  },
  {
   "cell_type": "markdown",
   "metadata": {},
   "source": [
    "Много уникальных значений признака 'phone'. Не получается перевести в разряженную матрицу (dummy)"
   ]
  },
  {
   "cell_type": "markdown",
   "metadata": {},
   "source": [
    "## LabelEncoder"
   ]
  },
  {
   "cell_type": "code",
   "execution_count": 65,
   "metadata": {},
   "outputs": [],
   "source": [
    "df_le = df.copy()\n",
    "le = LabelEncoder()\n",
    "for i in cat_feat:\n",
    "    le.fit(df_le[i].tolist())\n",
    "    cat_trsfm = le.transform(df_le[i].tolist())\n",
    "    se = pd.Series(cat_trsfm)\n",
    "    df_le[i+'_le'] = se.values\n",
    "    del df_le[i]\n",
    "\n",
    "# del df_le['phone']"
   ]
  },
  {
   "cell_type": "markdown",
   "metadata": {},
   "source": [
    "### train - test LabelEncoder"
   ]
  },
  {
   "cell_type": "code",
   "execution_count": 66,
   "metadata": {},
   "outputs": [],
   "source": [
    "X_train_le = df_le[df_le['date_reg'] < '2016-05-13']\n",
    "X_test_le = df_le[df_le['date_reg'] >= '2016-05-13']\n",
    "\n",
    "y_train_le = X_train_le[['client_id', 'churn']]\n",
    "y_test_le = X_test_le[['client_id', 'churn']]\n",
    "\n",
    "del X_train_le['churn']\n",
    "del X_test_le['churn']\n",
    "del X_train_le['date_reg']\n",
    "del X_test_le['date_reg']\n",
    "\n",
    "\n",
    "X_train_le = X_train_le.set_index('client_id')\n",
    "y_train_le = y_train_le.set_index('client_id')\n",
    "X_test_le = X_test_le.set_index('client_id')\n",
    "y_test_le = y_test_le.set_index('client_id')"
   ]
  },
  {
   "cell_type": "markdown",
   "metadata": {},
   "source": [
    "## OneHotEncoder (Dummy)"
   ]
  },
  {
   "cell_type": "code",
   "execution_count": 67,
   "metadata": {},
   "outputs": [],
   "source": [
    "df_dummy = df.copy()\n",
    "\n",
    "# исключаю признак 'phone' для dummy-кодирования из-за большого количества уникальных значений \n",
    "cat_feat.remove('phone')\n",
    "\n",
    "ohe = OneHotEncoder(sparse=False) \n",
    "for j in cat_feat:\n",
    "    new_ohe_features = ohe.fit_transform(df_dummy[j].values.reshape(-1, 1))\n",
    "    tmp = pd.DataFrame(new_ohe_features, columns=[j + '=' + str(i) for i in range(new_ohe_features.shape[1])], dtype='int64')\n",
    "    df_dummy = pd.concat([df_dummy, tmp], axis=1)\n",
    "    del df_dummy[j]\n",
    "\n",
    "del df_dummy['phone']"
   ]
  },
  {
   "cell_type": "code",
   "execution_count": 68,
   "metadata": {
    "scrolled": true
   },
   "outputs": [
    {
     "data": {
      "text/plain": [
       "(240000, 314)"
      ]
     },
     "execution_count": 68,
     "metadata": {},
     "output_type": "execute_result"
    }
   ],
   "source": [
    "df_dummy.shape"
   ]
  },
  {
   "cell_type": "markdown",
   "metadata": {},
   "source": [
    "### train - test Dummy"
   ]
  },
  {
   "cell_type": "code",
   "execution_count": 69,
   "metadata": {},
   "outputs": [],
   "source": [
    "X_train_dummy = df_dummy[df_dummy['date_reg'] < '2016-05-13']\n",
    "X_test_dummy = df_dummy[df_dummy['date_reg'] >= '2016-05-13']\n",
    "\n",
    "y_train_dummy = X_train_dummy[['client_id', 'churn']]\n",
    "y_test_dummy = X_test_dummy[['client_id', 'churn']]\n",
    "\n",
    "del X_train_dummy['churn']\n",
    "del X_test_dummy['churn']\n",
    "del X_train_dummy['date_reg']\n",
    "del X_test_dummy['date_reg']\n",
    "\n",
    "\n",
    "X_train_dummy = X_train_dummy.set_index('client_id')\n",
    "y_train_dummy = y_train_dummy.set_index('client_id')\n",
    "X_test_dummy = X_test_dummy.set_index('client_id')\n",
    "y_test_dummy = y_test_dummy.set_index('client_id')"
   ]
  },
  {
   "cell_type": "markdown",
   "metadata": {},
   "source": [
    "# XGBoost"
   ]
  },
  {
   "cell_type": "markdown",
   "metadata": {},
   "source": [
    "## 1. xgb Dummy"
   ]
  },
  {
   "cell_type": "code",
   "execution_count": 70,
   "metadata": {
    "scrolled": false
   },
   "outputs": [
    {
     "name": "stderr",
     "output_type": "stream",
     "text": [
      "D:\\Anaconda3\\lib\\site-packages\\sklearn\\utils\\validation.py:72: DataConversionWarning: A column-vector y was passed when a 1d array was expected. Please change the shape of y to (n_samples, ), for example using ravel().\n",
      "  return f(**kwargs)\n"
     ]
    },
    {
     "name": "stdout",
     "output_type": "stream",
     "text": [
      "Wall time: 3min 54s\n"
     ]
    },
    {
     "data": {
      "text/plain": [
       "XGBClassifier()"
      ]
     },
     "execution_count": 70,
     "metadata": {},
     "output_type": "execute_result"
    }
   ],
   "source": [
    "%%time \n",
    "xgb = XGBClassifier()\n",
    "xgb.fit(X_train_dummy, y_train_dummy)"
   ]
  },
  {
   "cell_type": "code",
   "execution_count": 71,
   "metadata": {
    "scrolled": true
   },
   "outputs": [],
   "source": [
    "xgb_valid_pred = xgb.predict(X_test_dummy)"
   ]
  },
  {
   "cell_type": "code",
   "execution_count": 72,
   "metadata": {},
   "outputs": [
    {
     "data": {
      "text/plain": [
       "0.78014272549331"
      ]
     },
     "execution_count": 72,
     "metadata": {},
     "output_type": "execute_result"
    }
   ],
   "source": [
    "roc_auc_score(y_test_dummy, xgb_valid_pred)"
   ]
  },
  {
   "cell_type": "code",
   "execution_count": 73,
   "metadata": {
    "scrolled": true
   },
   "outputs": [
    {
     "data": {
      "image/png": "[encoded data removed]",
      "text/plain": [
       "<Figure size 432x288 with 2 Axes>"
      ]
     },
     "metadata": {
      "needs_background": "light"
     },
     "output_type": "display_data"
    }
   ],
   "source": [
    "plot_confusion_matrix(xgb, X_test_dummy, y_test_dummy)\n",
    "plt.show()"
   ]
  },
  {
   "cell_type": "markdown",
   "metadata": {},
   "source": [
    "## 2. xgb LabelEncoder"
   ]
  },
  {
   "cell_type": "code",
   "execution_count": 74,
   "metadata": {},
   "outputs": [
    {
     "name": "stderr",
     "output_type": "stream",
     "text": [
      "D:\\Anaconda3\\lib\\site-packages\\sklearn\\utils\\validation.py:72: DataConversionWarning: A column-vector y was passed when a 1d array was expected. Please change the shape of y to (n_samples, ), for example using ravel().\n",
      "  return f(**kwargs)\n"
     ]
    },
    {
     "name": "stdout",
     "output_type": "stream",
     "text": [
      "Wall time: 34.2 s\n"
     ]
    },
    {
     "data": {
      "text/plain": [
       "XGBClassifier()"
      ]
     },
     "execution_count": 74,
     "metadata": {},
     "output_type": "execute_result"
    }
   ],
   "source": [
    "%%time \n",
    "xgb = XGBClassifier()\n",
    "xgb.fit(X_train_le, y_train_le)"
   ]
  },
  {
   "cell_type": "code",
   "execution_count": 75,
   "metadata": {},
   "outputs": [],
   "source": [
    "xgb_le_valid_pred = xgb.predict(X_test_le)"
   ]
  },
  {
   "cell_type": "code",
   "execution_count": 76,
   "metadata": {},
   "outputs": [
    {
     "data": {
      "text/plain": [
       "0.7802028285701667"
      ]
     },
     "execution_count": 76,
     "metadata": {},
     "output_type": "execute_result"
    }
   ],
   "source": [
    "roc_auc_score(y_test_le, xgb_le_valid_pred)"
   ]
  },
  {
   "cell_type": "code",
   "execution_count": 77,
   "metadata": {},
   "outputs": [
    {
     "data": {
      "image/png": "[encoded data removed]",
      "text/plain": [
       "<Figure size 432x288 with 2 Axes>"
      ]
     },
     "metadata": {
      "needs_background": "light"
     },
     "output_type": "display_data"
    }
   ],
   "source": [
    "plot_confusion_matrix(xgb, X_test_le, y_test_le)\n",
    "plt.show()"
   ]
  },
  {
   "cell_type": "code",
   "execution_count": null,
   "metadata": {},
   "outputs": [],
   "source": []
  }
 ],
 "metadata": {
  "kernelspec": {
   "display_name": "Python 3",
   "language": "python",
   "name": "python3"
  },
  "language_info": {
   "codemirror_mode": {
    "name": "ipython",
    "version": 3
   },
   "file_extension": ".py",
   "mimetype": "text/x-python",
   "name": "python",
   "nbconvert_exporter": "python",
   "pygments_lexer": "ipython3",
   "version": "3.7.9"
  }
 },
 "nbformat": 4,
 "nbformat_minor": 4
}
