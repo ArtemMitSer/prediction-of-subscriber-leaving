{
 "cells": [
  {
   "cell_type": "markdown",
   "metadata": {},
   "source": [
    "## ЗАДАЧА\n",
    "По активности абонентов в первый месяц их жизни требуется спрогнозировать уход абонента в ближайшее время."
   ]
  },
  {
   "cell_type": "markdown",
   "metadata": {},
   "source": [
    "## Данные:\n",
    "- **general.csv** - общая информацию об абоненте (устройства, тарифные планы, канал продаж).   \n",
    "- **traffic.csv** -  количество/длительность звонков (входящих и исходящих), количество смс, дата.  \n",
    "- **recharge.csv** - аггрегированная по дням информация о пополнениях в привязке к абоненту.  \n",
    "- **balance.csv** - информация о балансе абонентов на конец каждого дня.\n",
    "\n",
    "\n",
    "**general.csv** содержит ***date_key*** -  дату активации. Требуется использовать ее на разделение на train и test, test - начиная с 13 мая.  \n",
    "Ушедшие абоненты помечены единицей в переменной ***churn*** в файле **general.csv**.\n"
   ]
  },
  {
   "cell_type": "markdown",
   "metadata": {},
   "source": [
    "## ТРЕБОВАНИЯ"
   ]
  },
  {
   "cell_type": "markdown",
   "metadata": {},
   "source": [
    "### 0\n",
    "*Репа в Github*  \n",
    "*Только данные не заливать*"
   ]
  },
  {
   "cell_type": "markdown",
   "metadata": {},
   "source": [
    "### Метрика \n",
    "**ROC AUC**  \n",
    "baseline: 0.83  \n",
    "Дополнительно ответить на вопрос, почему ROC AUC а не другая? "
   ]
  },
  {
   "cell_type": "markdown",
   "metadata": {},
   "source": [
    "### Модельки минимум \n",
    "- CatBoost\n",
    "- XGBoost\n",
    "- logistic regression\n",
    "- random forest\n",
    "\n",
    "#### доп.\n",
    "- Lightgbm"
   ]
  },
  {
   "cell_type": "markdown",
   "metadata": {},
   "source": [
    "### 3 тетрадки \n",
    "**EDA.ipynb** - визуализация, поиск зависимостей для генерация фич.  \n",
    "... и для каждого алгоритма своя тетрадка. "
   ]
  },
  {
   "cell_type": "markdown",
   "metadata": {},
   "source": [
    "### Шпаргалка:\n",
    "[Открытый курс ODS](https://habr.com/ru/company/ods/blog/322626/ \"Ссылка на курс\")"
   ]
  }
 ],
 "metadata": {
  "kernelspec": {
   "display_name": "Python 3",
   "language": "python",
   "name": "python3"
  },
  "language_info": {
   "codemirror_mode": {
    "name": "ipython",
    "version": 3
   },
   "file_extension": ".py",
   "mimetype": "text/x-python",
   "name": "python",
   "nbconvert_exporter": "python",
   "pygments_lexer": "ipython3",
   "version": "3.7.9"
  }
 },
 "nbformat": 4,
 "nbformat_minor": 4
}
