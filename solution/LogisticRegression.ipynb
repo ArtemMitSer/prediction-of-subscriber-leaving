{
 "cells": [
  {
   "cell_type": "code",
   "execution_count": 191,
   "metadata": {},
   "outputs": [],
   "source": [
    "import pandas as pd\n",
    "import numpy as np\n",
    "\n",
    "from sklearn.linear_model import LogisticRegression\n",
    "\n",
    "from sklearn.metrics import confusion_matrix, plot_confusion_matrix\n",
    "from sklearn.metrics import roc_auc_score\n",
    "import matplotlib.pyplot as plt\n",
    "\n",
    "# стандартизация данных\n",
    "from sklearn.preprocessing import StandardScaler\n",
    "from sklearn.preprocessing import normalize\n",
    "\n",
    "\n",
    "# библиотека для преобразованя категориальных признаков\n",
    "from sklearn.preprocessing import OneHotEncoder"
   ]
  },
  {
   "cell_type": "code",
   "execution_count": 192,
   "metadata": {},
   "outputs": [],
   "source": [
    "df = pd.read_csv('dataset.csv', sep=',')"
   ]
  },
  {
   "cell_type": "code",
   "execution_count": 193,
   "metadata": {},
   "outputs": [],
   "source": [
    "df['date_reg'] = pd.to_datetime(df['date_reg'], format=\"%Y-%m-%d\")"
   ]
  },
  {
   "cell_type": "markdown",
   "metadata": {},
   "source": [
    "## Dummy-кодирование категориальных признаков"
   ]
  },
  {
   "cell_type": "code",
   "execution_count": 194,
   "metadata": {},
   "outputs": [],
   "source": [
    "cat_feat = ['market', 'group', 'archetype', 'hardware', 'channel', 'dealer', 'type_t', 'device']"
   ]
  },
  {
   "cell_type": "code",
   "execution_count": 195,
   "metadata": {},
   "outputs": [],
   "source": [
    "ohe = OneHotEncoder(sparse=False) \n",
    "for j in cat_feat:\n",
    "    new_ohe_features = ohe.fit_transform(df[j].values.reshape(-1, 1))\n",
    "    tmp = pd.DataFrame(new_ohe_features, columns=[j + '=' + str(i) for i in range(new_ohe_features.shape[1])], dtype='int64')\n",
    "    df = pd.concat([df, tmp], axis=1)\n",
    "    del df[j]\n",
    "\n",
    "del df['phone']"
   ]
  },
  {
   "cell_type": "code",
   "execution_count": 196,
   "metadata": {},
   "outputs": [
    {
     "data": {
      "text/plain": [
       "(240000, 253)"
      ]
     },
     "execution_count": 196,
     "metadata": {},
     "output_type": "execute_result"
    }
   ],
   "source": [
    "df.shape"
   ]
  },
  {
   "cell_type": "markdown",
   "metadata": {},
   "source": [
    "## train - test"
   ]
  },
  {
   "cell_type": "code",
   "execution_count": 197,
   "metadata": {},
   "outputs": [],
   "source": [
    "X_train = df[df['date_reg'] < '2016-05-13']\n",
    "X_test = df[df['date_reg'] >= '2016-05-13']\n",
    "\n",
    "y_train = X_train[['client_id', 'churn']]\n",
    "y_test = X_test[['client_id', 'churn']]\n",
    "\n",
    "del X_train['churn']\n",
    "del X_test['churn']\n",
    "del X_train['date_reg']\n",
    "del X_test['date_reg']\n",
    "\n",
    "\n",
    "X_train = X_train.set_index('client_id')\n",
    "y_train = y_train.set_index('client_id')\n",
    "X_test = X_test.set_index('client_id')\n",
    "y_test = y_test.set_index('client_id')"
   ]
  },
  {
   "cell_type": "markdown",
   "metadata": {},
   "source": [
    "## Нормализация данных\n"
   ]
  },
  {
   "cell_type": "markdown",
   "metadata": {},
   "source": [
    "#### Своя реализация\n",
    "Стандартизация или z-преобразование.  \n",
    "Преобразование данных в стандартную z-шкалу со средним M=0 и дисперсией D=1.  \n",
    "z[i] = (x[i] - x.mean()) / sd. \n"
   ]
  },
  {
   "cell_type": "code",
   "execution_count": 198,
   "metadata": {},
   "outputs": [],
   "source": [
    "def standard(df):\n",
    "    \n",
    "    def sd(df_series):\n",
    "        # длина выборки\n",
    "        n = len(df_series)\n",
    "        # среднее по выборке\n",
    "        x_mean = df_series.mean()\n",
    "        \n",
    "        df_series_list = df_series.tolist()\n",
    "        squar_dev = list()\n",
    "        for i in df_series_list:\n",
    "            squar_dev.append((i - x_mean)**2)\n",
    "        \n",
    "        res = 0\n",
    "        for j in squar_dev:\n",
    "            res += j\n",
    "        res = (res / n) ** (1/2)\n",
    "        return res\n",
    "            \n",
    "            \n",
    "    \n",
    "    result = df.copy()\n",
    "    for feat_name in df.columns:\n",
    "        if df[feat_name].dtypes in ['int64', 'int32', 'float64', 'float32']:\n",
    "            n = len(df[feat_name])\n",
    "            x_mean = df[feat_name].mean()\n",
    "            x_sd = sd(df[feat_name])\n",
    "            if x_sd != 0:\n",
    "                result[feat_name] = (result[feat_name] - x_mean) / x_sd\n",
    "            else:\n",
    "                continue\n",
    "            \n",
    "    return result"
   ]
  },
  {
   "cell_type": "markdown",
   "metadata": {},
   "source": [
    "#### Стандартизация. Сравнение своей реализации и sklearn"
   ]
  },
  {
   "cell_type": "code",
   "execution_count": 199,
   "metadata": {},
   "outputs": [],
   "source": [
    "X_train_standard_own = standard(X_train.copy())\n",
    "X_test_standard_own = standard(X_test.copy())"
   ]
  },
  {
   "cell_type": "code",
   "execution_count": 200,
   "metadata": {},
   "outputs": [],
   "source": [
    "#scaler_train = StandardScaler().fit(X_train)\n",
    "#scaler_test = StandardScaler().fit(X_test)\n",
    "\n",
    "#df_train_standard_skl = scaler_train.transform(X_train)\n",
    "#df_test_standard_skl = scaler_test.transform(X_test)"
   ]
  },
  {
   "cell_type": "code",
   "execution_count": 201,
   "metadata": {},
   "outputs": [],
   "source": [
    "X_train_standard_skl = preprocessing.scale(X_train)\n",
    "X_test_standard_skl = preprocessing.scale(X_test)"
   ]
  },
  {
   "cell_type": "code",
   "execution_count": 202,
   "metadata": {
    "scrolled": false
   },
   "outputs": [
    {
     "data": {
      "text/html": [
       "<div>\n",
       "<style scoped>\n",
       "    .dataframe tbody tr th:only-of-type {\n",
       "        vertical-align: middle;\n",
       "    }\n",
       "\n",
       "    .dataframe tbody tr th {\n",
       "        vertical-align: top;\n",
       "    }\n",
       "\n",
       "    .dataframe thead th {\n",
       "        text-align: right;\n",
       "    }\n",
       "</style>\n",
       "<table border=\"1\" class=\"dataframe\">\n",
       "  <thead>\n",
       "    <tr style=\"text-align: right;\">\n",
       "      <th></th>\n",
       "      <th>quantity_days_traffic</th>\n",
       "      <th>all_call_in_num</th>\n",
       "      <th>all_call_out_num</th>\n",
       "      <th>all_call_in_dur</th>\n",
       "      <th>all_call_out_dur</th>\n",
       "      <th>all_out_sms</th>\n",
       "      <th>all_gprs</th>\n",
       "      <th>last_day_traffic</th>\n",
       "      <th>mean_call_in_dur</th>\n",
       "      <th>mean_call_out_dur</th>\n",
       "      <th>...</th>\n",
       "      <th>type_t=12</th>\n",
       "      <th>type_t=13</th>\n",
       "      <th>device=0</th>\n",
       "      <th>device=1</th>\n",
       "      <th>device=2</th>\n",
       "      <th>device=3</th>\n",
       "      <th>device=4</th>\n",
       "      <th>device=5</th>\n",
       "      <th>device=6</th>\n",
       "      <th>device=7</th>\n",
       "    </tr>\n",
       "  </thead>\n",
       "  <tbody>\n",
       "    <tr>\n",
       "      <th>0</th>\n",
       "      <td>-0.494013</td>\n",
       "      <td>-0.530785</td>\n",
       "      <td>-0.416299</td>\n",
       "      <td>-0.414354</td>\n",
       "      <td>-0.191049</td>\n",
       "      <td>-0.125198</td>\n",
       "      <td>-0.251583</td>\n",
       "      <td>0.825182</td>\n",
       "      <td>-0.568653</td>\n",
       "      <td>1.396313</td>\n",
       "      <td>...</td>\n",
       "      <td>-0.240799</td>\n",
       "      <td>-0.258500</td>\n",
       "      <td>-0.249128</td>\n",
       "      <td>-0.516828</td>\n",
       "      <td>-0.441214</td>\n",
       "      <td>-0.117551</td>\n",
       "      <td>-0.240799</td>\n",
       "      <td>1.210439</td>\n",
       "      <td>-0.179114</td>\n",
       "      <td>-0.258500</td>\n",
       "    </tr>\n",
       "    <tr>\n",
       "      <th>1</th>\n",
       "      <td>0.226848</td>\n",
       "      <td>2.115007</td>\n",
       "      <td>1.328543</td>\n",
       "      <td>0.213687</td>\n",
       "      <td>0.363630</td>\n",
       "      <td>-0.146333</td>\n",
       "      <td>-0.236404</td>\n",
       "      <td>0.825182</td>\n",
       "      <td>-0.317702</td>\n",
       "      <td>-0.294508</td>\n",
       "      <td>...</td>\n",
       "      <td>-0.240799</td>\n",
       "      <td>3.868474</td>\n",
       "      <td>-0.249128</td>\n",
       "      <td>-0.516828</td>\n",
       "      <td>-0.441214</td>\n",
       "      <td>-0.117551</td>\n",
       "      <td>-0.240799</td>\n",
       "      <td>-0.826146</td>\n",
       "      <td>-0.179114</td>\n",
       "      <td>3.868474</td>\n",
       "    </tr>\n",
       "    <tr>\n",
       "      <th>2</th>\n",
       "      <td>1.218032</td>\n",
       "      <td>0.897694</td>\n",
       "      <td>0.572815</td>\n",
       "      <td>1.063939</td>\n",
       "      <td>0.795722</td>\n",
       "      <td>-0.167469</td>\n",
       "      <td>-0.242417</td>\n",
       "      <td>0.825182</td>\n",
       "      <td>0.525413</td>\n",
       "      <td>0.206528</td>\n",
       "      <td>...</td>\n",
       "      <td>-0.240799</td>\n",
       "      <td>3.868474</td>\n",
       "      <td>-0.249128</td>\n",
       "      <td>-0.516828</td>\n",
       "      <td>-0.441214</td>\n",
       "      <td>-0.117551</td>\n",
       "      <td>-0.240799</td>\n",
       "      <td>-0.826146</td>\n",
       "      <td>-0.179114</td>\n",
       "      <td>3.868474</td>\n",
       "    </tr>\n",
       "    <tr>\n",
       "      <th>3</th>\n",
       "      <td>1.037817</td>\n",
       "      <td>0.276616</td>\n",
       "      <td>0.200508</td>\n",
       "      <td>-0.120141</td>\n",
       "      <td>-0.206267</td>\n",
       "      <td>-0.167469</td>\n",
       "      <td>-0.251583</td>\n",
       "      <td>0.825182</td>\n",
       "      <td>-0.183415</td>\n",
       "      <td>-0.339726</td>\n",
       "      <td>...</td>\n",
       "      <td>-0.240799</td>\n",
       "      <td>-0.258500</td>\n",
       "      <td>-0.249128</td>\n",
       "      <td>1.934881</td>\n",
       "      <td>-0.441214</td>\n",
       "      <td>-0.117551</td>\n",
       "      <td>-0.240799</td>\n",
       "      <td>-0.826146</td>\n",
       "      <td>-0.179114</td>\n",
       "      <td>-0.258500</td>\n",
       "    </tr>\n",
       "    <tr>\n",
       "      <th>4</th>\n",
       "      <td>0.136741</td>\n",
       "      <td>-0.282354</td>\n",
       "      <td>-0.366288</td>\n",
       "      <td>-0.327965</td>\n",
       "      <td>-0.455364</td>\n",
       "      <td>-0.114630</td>\n",
       "      <td>-0.251540</td>\n",
       "      <td>0.825182</td>\n",
       "      <td>-0.201025</td>\n",
       "      <td>-0.442138</td>\n",
       "      <td>...</td>\n",
       "      <td>-0.240799</td>\n",
       "      <td>-0.258500</td>\n",
       "      <td>-0.249128</td>\n",
       "      <td>-0.516828</td>\n",
       "      <td>-0.441214</td>\n",
       "      <td>-0.117551</td>\n",
       "      <td>-0.240799</td>\n",
       "      <td>1.210439</td>\n",
       "      <td>-0.179114</td>\n",
       "      <td>-0.258500</td>\n",
       "    </tr>\n",
       "  </tbody>\n",
       "</table>\n",
       "<p>5 rows × 250 columns</p>\n",
       "</div>"
      ],
      "text/plain": [
       "   quantity_days_traffic  all_call_in_num  all_call_out_num  all_call_in_dur  \\\n",
       "0              -0.494013        -0.530785         -0.416299        -0.414354   \n",
       "1               0.226848         2.115007          1.328543         0.213687   \n",
       "2               1.218032         0.897694          0.572815         1.063939   \n",
       "3               1.037817         0.276616          0.200508        -0.120141   \n",
       "4               0.136741        -0.282354         -0.366288        -0.327965   \n",
       "\n",
       "   all_call_out_dur  all_out_sms  all_gprs  last_day_traffic  \\\n",
       "0         -0.191049    -0.125198 -0.251583          0.825182   \n",
       "1          0.363630    -0.146333 -0.236404          0.825182   \n",
       "2          0.795722    -0.167469 -0.242417          0.825182   \n",
       "3         -0.206267    -0.167469 -0.251583          0.825182   \n",
       "4         -0.455364    -0.114630 -0.251540          0.825182   \n",
       "\n",
       "   mean_call_in_dur  mean_call_out_dur  ...  type_t=12  type_t=13  device=0  \\\n",
       "0         -0.568653           1.396313  ...  -0.240799  -0.258500 -0.249128   \n",
       "1         -0.317702          -0.294508  ...  -0.240799   3.868474 -0.249128   \n",
       "2          0.525413           0.206528  ...  -0.240799   3.868474 -0.249128   \n",
       "3         -0.183415          -0.339726  ...  -0.240799  -0.258500 -0.249128   \n",
       "4         -0.201025          -0.442138  ...  -0.240799  -0.258500 -0.249128   \n",
       "\n",
       "   device=1  device=2  device=3  device=4  device=5  device=6  device=7  \n",
       "0 -0.516828 -0.441214 -0.117551 -0.240799  1.210439 -0.179114 -0.258500  \n",
       "1 -0.516828 -0.441214 -0.117551 -0.240799 -0.826146 -0.179114  3.868474  \n",
       "2 -0.516828 -0.441214 -0.117551 -0.240799 -0.826146 -0.179114  3.868474  \n",
       "3  1.934881 -0.441214 -0.117551 -0.240799 -0.826146 -0.179114 -0.258500  \n",
       "4 -0.516828 -0.441214 -0.117551 -0.240799  1.210439 -0.179114 -0.258500  \n",
       "\n",
       "[5 rows x 250 columns]"
      ]
     },
     "execution_count": 202,
     "metadata": {},
     "output_type": "execute_result"
    }
   ],
   "source": [
    "pd.DataFrame(X_train_standard_skl, columns=X_train.columns).head()"
   ]
  },
  {
   "cell_type": "code",
   "execution_count": 203,
   "metadata": {
    "scrolled": false
   },
   "outputs": [
    {
     "data": {
      "text/html": [
       "<div>\n",
       "<style scoped>\n",
       "    .dataframe tbody tr th:only-of-type {\n",
       "        vertical-align: middle;\n",
       "    }\n",
       "\n",
       "    .dataframe tbody tr th {\n",
       "        vertical-align: top;\n",
       "    }\n",
       "\n",
       "    .dataframe thead th {\n",
       "        text-align: right;\n",
       "    }\n",
       "</style>\n",
       "<table border=\"1\" class=\"dataframe\">\n",
       "  <thead>\n",
       "    <tr style=\"text-align: right;\">\n",
       "      <th></th>\n",
       "      <th>quantity_days_traffic</th>\n",
       "    </tr>\n",
       "  </thead>\n",
       "  <tbody>\n",
       "    <tr>\n",
       "      <th>count</th>\n",
       "      <td>1.605290e+05</td>\n",
       "    </tr>\n",
       "    <tr>\n",
       "      <th>mean</th>\n",
       "      <td>-2.417520e-15</td>\n",
       "    </tr>\n",
       "    <tr>\n",
       "      <th>std</th>\n",
       "      <td>1.000003e+00</td>\n",
       "    </tr>\n",
       "    <tr>\n",
       "      <th>min</th>\n",
       "      <td>-1.304981e+00</td>\n",
       "    </tr>\n",
       "    <tr>\n",
       "      <th>25%</th>\n",
       "      <td>-1.034658e+00</td>\n",
       "    </tr>\n",
       "    <tr>\n",
       "      <th>50%</th>\n",
       "      <td>-4.347454e-02</td>\n",
       "    </tr>\n",
       "    <tr>\n",
       "      <th>75%</th>\n",
       "      <td>1.037817e+00</td>\n",
       "    </tr>\n",
       "    <tr>\n",
       "      <th>max</th>\n",
       "      <td>1.308140e+00</td>\n",
       "    </tr>\n",
       "  </tbody>\n",
       "</table>\n",
       "</div>"
      ],
      "text/plain": [
       "       quantity_days_traffic\n",
       "count           1.605290e+05\n",
       "mean           -2.417520e-15\n",
       "std             1.000003e+00\n",
       "min            -1.304981e+00\n",
       "25%            -1.034658e+00\n",
       "50%            -4.347454e-02\n",
       "75%             1.037817e+00\n",
       "max             1.308140e+00"
      ]
     },
     "execution_count": 203,
     "metadata": {},
     "output_type": "execute_result"
    }
   ],
   "source": [
    "pd.DataFrame(X_train_standard_skl, columns=X_train.columns)[['quantity_days_traffic']].describe()"
   ]
  },
  {
   "cell_type": "code",
   "execution_count": 204,
   "metadata": {},
   "outputs": [
    {
     "data": {
      "text/html": [
       "<div>\n",
       "<style scoped>\n",
       "    .dataframe tbody tr th:only-of-type {\n",
       "        vertical-align: middle;\n",
       "    }\n",
       "\n",
       "    .dataframe tbody tr th {\n",
       "        vertical-align: top;\n",
       "    }\n",
       "\n",
       "    .dataframe thead th {\n",
       "        text-align: right;\n",
       "    }\n",
       "</style>\n",
       "<table border=\"1\" class=\"dataframe\">\n",
       "  <thead>\n",
       "    <tr style=\"text-align: right;\">\n",
       "      <th></th>\n",
       "      <th>quantity_days_traffic</th>\n",
       "    </tr>\n",
       "  </thead>\n",
       "  <tbody>\n",
       "    <tr>\n",
       "      <th>count</th>\n",
       "      <td>1.605290e+05</td>\n",
       "    </tr>\n",
       "    <tr>\n",
       "      <th>mean</th>\n",
       "      <td>1.357789e-16</td>\n",
       "    </tr>\n",
       "    <tr>\n",
       "      <th>std</th>\n",
       "      <td>1.000003e+00</td>\n",
       "    </tr>\n",
       "    <tr>\n",
       "      <th>min</th>\n",
       "      <td>-1.304981e+00</td>\n",
       "    </tr>\n",
       "    <tr>\n",
       "      <th>25%</th>\n",
       "      <td>-1.034658e+00</td>\n",
       "    </tr>\n",
       "    <tr>\n",
       "      <th>50%</th>\n",
       "      <td>-4.347454e-02</td>\n",
       "    </tr>\n",
       "    <tr>\n",
       "      <th>75%</th>\n",
       "      <td>1.037817e+00</td>\n",
       "    </tr>\n",
       "    <tr>\n",
       "      <th>max</th>\n",
       "      <td>1.308140e+00</td>\n",
       "    </tr>\n",
       "  </tbody>\n",
       "</table>\n",
       "</div>"
      ],
      "text/plain": [
       "       quantity_days_traffic\n",
       "count           1.605290e+05\n",
       "mean            1.357789e-16\n",
       "std             1.000003e+00\n",
       "min            -1.304981e+00\n",
       "25%            -1.034658e+00\n",
       "50%            -4.347454e-02\n",
       "75%             1.037817e+00\n",
       "max             1.308140e+00"
      ]
     },
     "execution_count": 204,
     "metadata": {},
     "output_type": "execute_result"
    }
   ],
   "source": [
    "X_train_standard_own[['quantity_days_traffic']].describe()"
   ]
  },
  {
   "cell_type": "markdown",
   "metadata": {},
   "source": [
    "# LogisticRegression"
   ]
  },
  {
   "cell_type": "code",
   "execution_count": 205,
   "metadata": {},
   "outputs": [
    {
     "name": "stderr",
     "output_type": "stream",
     "text": [
      "D:\\Anaconda3\\lib\\site-packages\\sklearn\\utils\\validation.py:72: DataConversionWarning: A column-vector y was passed when a 1d array was expected. Please change the shape of y to (n_samples, ), for example using ravel().\n",
      "  return f(**kwargs)\n"
     ]
    },
    {
     "name": "stdout",
     "output_type": "stream",
     "text": [
      "Wall time: 18.6 s\n"
     ]
    },
    {
     "name": "stderr",
     "output_type": "stream",
     "text": [
      "D:\\Anaconda3\\lib\\site-packages\\sklearn\\linear_model\\_logistic.py:764: ConvergenceWarning: lbfgs failed to converge (status=1):\n",
      "STOP: TOTAL NO. of ITERATIONS REACHED LIMIT.\n",
      "\n",
      "Increase the number of iterations (max_iter) or scale the data as shown in:\n",
      "    https://scikit-learn.org/stable/modules/preprocessing.html\n",
      "Please also refer to the documentation for alternative solver options:\n",
      "    https://scikit-learn.org/stable/modules/linear_model.html#logistic-regression\n",
      "  extra_warning_msg=_LOGISTIC_SOLVER_CONVERGENCE_MSG)\n"
     ]
    },
    {
     "data": {
      "text/plain": [
       "LogisticRegression(class_weight='balanced')"
      ]
     },
     "execution_count": 205,
     "metadata": {},
     "output_type": "execute_result"
    }
   ],
   "source": [
    "%%time\n",
    "logit = LogisticRegression(class_weight='balanced')\n",
    "logit.fit(X_train, y_train)"
   ]
  },
  {
   "cell_type": "code",
   "execution_count": 206,
   "metadata": {},
   "outputs": [],
   "source": [
    "logit_valid_pred = logit.predict_proba(X_test)[:,1]"
   ]
  },
  {
   "cell_type": "code",
   "execution_count": 207,
   "metadata": {},
   "outputs": [
    {
     "data": {
      "text/plain": [
       "0.7459296921754"
      ]
     },
     "execution_count": 207,
     "metadata": {},
     "output_type": "execute_result"
    }
   ],
   "source": [
    "roc_auc_score(y_test, logit_valid_pred)"
   ]
  },
  {
   "cell_type": "code",
   "execution_count": 208,
   "metadata": {},
   "outputs": [
    {
     "data": {
      "image/png": "[encoded data removed]",
      "text/plain": [
       "<Figure size 432x288 with 2 Axes>"
      ]
     },
     "metadata": {
      "needs_background": "light"
     },
     "output_type": "display_data"
    }
   ],
   "source": [
    "plot_confusion_matrix(logit, X_test, y_test)\n",
    "plt.show()"
   ]
  },
  {
   "cell_type": "code",
   "execution_count": null,
   "metadata": {},
   "outputs": [],
   "source": []
  },
  {
   "cell_type": "markdown",
   "metadata": {},
   "source": [
    "# LogisticRegression standard skl"
   ]
  },
  {
   "cell_type": "code",
   "execution_count": 209,
   "metadata": {},
   "outputs": [
    {
     "name": "stderr",
     "output_type": "stream",
     "text": [
      "D:\\Anaconda3\\lib\\site-packages\\sklearn\\utils\\validation.py:72: DataConversionWarning: A column-vector y was passed when a 1d array was expected. Please change the shape of y to (n_samples, ), for example using ravel().\n",
      "  return f(**kwargs)\n"
     ]
    },
    {
     "name": "stdout",
     "output_type": "stream",
     "text": [
      "Wall time: 9.03 s\n"
     ]
    },
    {
     "data": {
      "text/plain": [
       "LogisticRegression(class_weight='balanced')"
      ]
     },
     "execution_count": 209,
     "metadata": {},
     "output_type": "execute_result"
    }
   ],
   "source": [
    "%%time\n",
    "logit = LogisticRegression(class_weight='balanced')\n",
    "logit.fit(X_train_standard_skl, y_train)"
   ]
  },
  {
   "cell_type": "code",
   "execution_count": 210,
   "metadata": {},
   "outputs": [],
   "source": [
    "logit_valid_pred = logit.predict_proba(X_test_standard_skl)[:,1]"
   ]
  },
  {
   "cell_type": "code",
   "execution_count": 211,
   "metadata": {},
   "outputs": [
    {
     "data": {
      "text/plain": [
       "0.8467149231816229"
      ]
     },
     "execution_count": 211,
     "metadata": {},
     "output_type": "execute_result"
    }
   ],
   "source": [
    "roc_auc_score(y_test, logit_valid_pred)"
   ]
  },
  {
   "cell_type": "code",
   "execution_count": 212,
   "metadata": {},
   "outputs": [
    {
     "data": {
      "image/png": "[encoded data removed]",
      "text/plain": [
       "<Figure size 432x288 with 2 Axes>"
      ]
     },
     "metadata": {
      "needs_background": "light"
     },
     "output_type": "display_data"
    }
   ],
   "source": [
    "plot_confusion_matrix(logit, X_test_standard_skl, y_test)\n",
    "plt.show()"
   ]
  },
  {
   "cell_type": "code",
   "execution_count": null,
   "metadata": {},
   "outputs": [],
   "source": []
  },
  {
   "cell_type": "markdown",
   "metadata": {},
   "source": [
    "# LogisticRegression standard own"
   ]
  },
  {
   "cell_type": "code",
   "execution_count": 213,
   "metadata": {},
   "outputs": [
    {
     "name": "stderr",
     "output_type": "stream",
     "text": [
      "D:\\Anaconda3\\lib\\site-packages\\sklearn\\utils\\validation.py:72: DataConversionWarning: A column-vector y was passed when a 1d array was expected. Please change the shape of y to (n_samples, ), for example using ravel().\n",
      "  return f(**kwargs)\n"
     ]
    },
    {
     "name": "stdout",
     "output_type": "stream",
     "text": [
      "Wall time: 8.33 s\n"
     ]
    },
    {
     "data": {
      "text/plain": [
       "LogisticRegression(class_weight='balanced')"
      ]
     },
     "execution_count": 213,
     "metadata": {},
     "output_type": "execute_result"
    }
   ],
   "source": [
    "%%time\n",
    "logit = LogisticRegression(class_weight='balanced')\n",
    "logit.fit(X_train_standard_own, y_train)"
   ]
  },
  {
   "cell_type": "code",
   "execution_count": 214,
   "metadata": {},
   "outputs": [],
   "source": [
    "logit_valid_pred = logit.predict_proba(X_test_standard_own)[:,1]"
   ]
  },
  {
   "cell_type": "code",
   "execution_count": 215,
   "metadata": {},
   "outputs": [
    {
     "data": {
      "text/plain": [
       "0.8467149231816229"
      ]
     },
     "execution_count": 215,
     "metadata": {},
     "output_type": "execute_result"
    }
   ],
   "source": [
    "roc_auc_score(y_test, logit_valid_pred)"
   ]
  },
  {
   "cell_type": "code",
   "execution_count": 216,
   "metadata": {},
   "outputs": [
    {
     "data": {
      "image/png": "[encoded data removed]",
      "text/plain": [
       "<Figure size 432x288 with 2 Axes>"
      ]
     },
     "metadata": {
      "needs_background": "light"
     },
     "output_type": "display_data"
    }
   ],
   "source": [
    "plot_confusion_matrix(logit, X_test_standard_own, y_test)\n",
    "plt.show()"
   ]
  },
  {
   "cell_type": "code",
   "execution_count": null,
   "metadata": {},
   "outputs": [],
   "source": []
  },
  {
   "cell_type": "code",
   "execution_count": null,
   "metadata": {},
   "outputs": [],
   "source": []
  },
  {
   "cell_type": "code",
   "execution_count": null,
   "metadata": {},
   "outputs": [],
   "source": []
  },
  {
   "cell_type": "code",
   "execution_count": null,
   "metadata": {},
   "outputs": [],
   "source": []
  },
  {
   "cell_type": "code",
   "execution_count": null,
   "metadata": {},
   "outputs": [],
   "source": []
  },
  {
   "cell_type": "code",
   "execution_count": null,
   "metadata": {},
   "outputs": [],
   "source": []
  },
  {
   "cell_type": "code",
   "execution_count": null,
   "metadata": {},
   "outputs": [],
   "source": []
  }
 ],
 "metadata": {
  "kernelspec": {
   "display_name": "Python 3",
   "language": "python",
   "name": "python3"
  },
  "language_info": {
   "codemirror_mode": {
    "name": "ipython",
    "version": 3
   },
   "file_extension": ".py",
   "mimetype": "text/x-python",
   "name": "python",
   "nbconvert_exporter": "python",
   "pygments_lexer": "ipython3",
   "version": "3.7.9"
  }
 },
 "nbformat": 4,
 "nbformat_minor": 4
}
