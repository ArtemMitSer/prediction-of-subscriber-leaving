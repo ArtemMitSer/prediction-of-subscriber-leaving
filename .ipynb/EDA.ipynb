{
 "cells": [
  {
   "cell_type": "code",
   "execution_count": 1,
   "metadata": {},
   "outputs": [],
   "source": [
    "import pandas as pd\n",
    "import numpy as np"
   ]
  },
  {
   "cell_type": "markdown",
   "metadata": {},
   "source": [
    "**Загрузка данных**"
   ]
  },
  {
   "cell_type": "code",
   "execution_count": 2,
   "metadata": {},
   "outputs": [],
   "source": [
    "general_df = pd.read_csv('DS/general.csv', sep=',')\n",
    "traffic_df = pd.read_csv('DS/traffic.csv', sep=',')\n",
    "recharge_df = pd.read_csv('DS/recharge.csv', sep=',')\n",
    "balance_df = pd.read_csv('DS/balance.csv', sep=',')"
   ]
  },
  {
   "cell_type": "markdown",
   "metadata": {},
   "source": [
    "## Описание данных"
   ]
  },
  {
   "cell_type": "markdown",
   "metadata": {},
   "source": [
    "## general\n",
    "общая информацию об абоненте (устройства, тарифные планы, канал продаж)."
   ]
  },
  {
   "cell_type": "markdown",
   "metadata": {},
   "source": [
    "#### Признаки\n",
    "- ***client_id*** - идентификатор клиента\n",
    "- ***date_reg*** - дата активации\n",
    "- ***market*** - \n",
    "- ***group*** - \n",
    "- ***archetype*** - \n",
    "- ***hardware*** - аппаратное обеспечение\n",
    "- ***channel*** - канал продаж\n",
    "- ***dealer*** - \n",
    "- ***phone*** - телефон\n",
    "- ***type_t*** - тарифные планы\n",
    "- ***device*** - устройство \n",
    "\n",
    "\n",
    "- ***churn*** - ушедшие абоненты. Целевая переменная "
   ]
  },
  {
   "cell_type": "code",
   "execution_count": 3,
   "metadata": {
    "scrolled": true
   },
   "outputs": [
    {
     "data": {
      "text/html": [
       "<div>\n",
       "<style scoped>\n",
       "    .dataframe tbody tr th:only-of-type {\n",
       "        vertical-align: middle;\n",
       "    }\n",
       "\n",
       "    .dataframe tbody tr th {\n",
       "        vertical-align: top;\n",
       "    }\n",
       "\n",
       "    .dataframe thead th {\n",
       "        text-align: right;\n",
       "    }\n",
       "</style>\n",
       "<table border=\"1\" class=\"dataframe\">\n",
       "  <thead>\n",
       "    <tr style=\"text-align: right;\">\n",
       "      <th></th>\n",
       "      <th>client_id</th>\n",
       "      <th>date_reg</th>\n",
       "      <th>market</th>\n",
       "      <th>group</th>\n",
       "      <th>archetype</th>\n",
       "      <th>hardware</th>\n",
       "      <th>channel</th>\n",
       "      <th>dealer</th>\n",
       "      <th>phone</th>\n",
       "      <th>type_t</th>\n",
       "      <th>device</th>\n",
       "      <th>churn</th>\n",
       "    </tr>\n",
       "  </thead>\n",
       "  <tbody>\n",
       "    <tr>\n",
       "      <th>0</th>\n",
       "      <td>09777552-cc75-4f03-9438-11c3a7480f97</td>\n",
       "      <td>2016-05-10 00:00:00.0</td>\n",
       "      <td>R25</td>\n",
       "      <td>PP1_9</td>\n",
       "      <td>PP2_0</td>\n",
       "      <td>PPT1</td>\n",
       "      <td>C1_22</td>\n",
       "      <td>C2_22</td>\n",
       "      <td>D2254</td>\n",
       "      <td>DT1_6</td>\n",
       "      <td>DT2_5</td>\n",
       "      <td>0.0</td>\n",
       "    </tr>\n",
       "    <tr>\n",
       "      <th>1</th>\n",
       "      <td>5fbe2ea9-0c80-4164-b703-416b85c23d8c</td>\n",
       "      <td>2016-04-19 00:00:00.0</td>\n",
       "      <td>R25</td>\n",
       "      <td>PP1_9</td>\n",
       "      <td>PP2_0</td>\n",
       "      <td>PPT1</td>\n",
       "      <td>C1_6</td>\n",
       "      <td>C2_0</td>\n",
       "      <td>NaN</td>\n",
       "      <td>NaN</td>\n",
       "      <td>NaN</td>\n",
       "      <td>1.0</td>\n",
       "    </tr>\n",
       "    <tr>\n",
       "      <th>2</th>\n",
       "      <td>8cbd48c0-8f90-4f08-bef7-8f09d9924e55</td>\n",
       "      <td>2016-05-19 00:00:00.0</td>\n",
       "      <td>R25</td>\n",
       "      <td>PP1_9</td>\n",
       "      <td>PP2_0</td>\n",
       "      <td>PPT1</td>\n",
       "      <td>C1_6</td>\n",
       "      <td>C2_0</td>\n",
       "      <td>D2594</td>\n",
       "      <td>DT1_6</td>\n",
       "      <td>DT2_5</td>\n",
       "      <td>0.0</td>\n",
       "    </tr>\n",
       "    <tr>\n",
       "      <th>3</th>\n",
       "      <td>ffda8d15-cd38-45c3-84ba-29a9811ed79e</td>\n",
       "      <td>2016-05-28 00:00:00.0</td>\n",
       "      <td>R25</td>\n",
       "      <td>PP1_9</td>\n",
       "      <td>PP2_0</td>\n",
       "      <td>PPT1</td>\n",
       "      <td>C1_22</td>\n",
       "      <td>C2_11</td>\n",
       "      <td>D3131</td>\n",
       "      <td>DT1_6</td>\n",
       "      <td>DT2_5</td>\n",
       "      <td>1.0</td>\n",
       "    </tr>\n",
       "    <tr>\n",
       "      <th>4</th>\n",
       "      <td>1f9618ad-a980-4110-af32-9741e491a728</td>\n",
       "      <td>2016-05-23 00:00:00.0</td>\n",
       "      <td>R4</td>\n",
       "      <td>PP1_9</td>\n",
       "      <td>PP2_0</td>\n",
       "      <td>PPT1</td>\n",
       "      <td>C1_28</td>\n",
       "      <td>C2_21</td>\n",
       "      <td>D454</td>\n",
       "      <td>DT1_6</td>\n",
       "      <td>DT2_5</td>\n",
       "      <td>0.0</td>\n",
       "    </tr>\n",
       "  </tbody>\n",
       "</table>\n",
       "</div>"
      ],
      "text/plain": [
       "                              client_id               date_reg market  group  \\\n",
       "0  09777552-cc75-4f03-9438-11c3a7480f97  2016-05-10 00:00:00.0    R25  PP1_9   \n",
       "1  5fbe2ea9-0c80-4164-b703-416b85c23d8c  2016-04-19 00:00:00.0    R25  PP1_9   \n",
       "2  8cbd48c0-8f90-4f08-bef7-8f09d9924e55  2016-05-19 00:00:00.0    R25  PP1_9   \n",
       "3  ffda8d15-cd38-45c3-84ba-29a9811ed79e  2016-05-28 00:00:00.0    R25  PP1_9   \n",
       "4  1f9618ad-a980-4110-af32-9741e491a728  2016-05-23 00:00:00.0     R4  PP1_9   \n",
       "\n",
       "  archetype hardware channel dealer  phone type_t device  churn  \n",
       "0     PP2_0     PPT1   C1_22  C2_22  D2254  DT1_6  DT2_5    0.0  \n",
       "1     PP2_0     PPT1    C1_6   C2_0    NaN    NaN    NaN    1.0  \n",
       "2     PP2_0     PPT1    C1_6   C2_0  D2594  DT1_6  DT2_5    0.0  \n",
       "3     PP2_0     PPT1   C1_22  C2_11  D3131  DT1_6  DT2_5    1.0  \n",
       "4     PP2_0     PPT1   C1_28  C2_21   D454  DT1_6  DT2_5    0.0  "
      ]
     },
     "execution_count": 3,
     "metadata": {},
     "output_type": "execute_result"
    }
   ],
   "source": [
    "general_df.head()"
   ]
  },
  {
   "cell_type": "code",
   "execution_count": 4,
   "metadata": {},
   "outputs": [
    {
     "name": "stdout",
     "output_type": "stream",
     "text": [
      "<class 'pandas.core.frame.DataFrame'>\n",
      "RangeIndex: 240000 entries, 0 to 239999\n",
      "Data columns (total 12 columns):\n",
      " #   Column     Non-Null Count   Dtype  \n",
      "---  ------     --------------   -----  \n",
      " 0   client_id  240000 non-null  object \n",
      " 1   date_reg   240000 non-null  object \n",
      " 2   market     240000 non-null  object \n",
      " 3   group      240000 non-null  object \n",
      " 4   archetype  240000 non-null  object \n",
      " 5   hardware   240000 non-null  object \n",
      " 6   channel    240000 non-null  object \n",
      " 7   dealer     240000 non-null  object \n",
      " 8   phone      225165 non-null  object \n",
      " 9   type_t     225165 non-null  object \n",
      " 10  device     225165 non-null  object \n",
      " 11  churn      240000 non-null  float64\n",
      "dtypes: float64(1), object(11)\n",
      "memory usage: 22.0+ MB\n"
     ]
    }
   ],
   "source": [
    "general_df.info()"
   ]
  },
  {
   "cell_type": "code",
   "execution_count": 5,
   "metadata": {
    "scrolled": true
   },
   "outputs": [
    {
     "data": {
      "text/plain": [
       "(240000, 12)"
      ]
     },
     "execution_count": 5,
     "metadata": {},
     "output_type": "execute_result"
    }
   ],
   "source": [
    "general_df.shape"
   ]
  },
  {
   "cell_type": "code",
   "execution_count": 6,
   "metadata": {},
   "outputs": [
    {
     "data": {
      "text/plain": [
       "device       14835\n",
       "type_t       14835\n",
       "phone        14835\n",
       "churn            0\n",
       "dealer           0\n",
       "channel          0\n",
       "hardware         0\n",
       "archetype        0\n",
       "group            0\n",
       "market           0\n",
       "date_reg         0\n",
       "client_id        0\n",
       "dtype: int64"
      ]
     },
     "execution_count": 6,
     "metadata": {},
     "output_type": "execute_result"
    }
   ],
   "source": [
    "# количество пропущеных значений категориальных признаков\n",
    "(general_df.isnull().sum()).sort_values(ascending=False)"
   ]
  },
  {
   "cell_type": "code",
   "execution_count": 7,
   "metadata": {},
   "outputs": [],
   "source": [
    "# замена пропущенных значений ктегориальных признаков на отдельную сущность 'NAN'\n",
    "general_df = general_df.fillna('NAN')"
   ]
  },
  {
   "cell_type": "code",
   "execution_count": 8,
   "metadata": {},
   "outputs": [
    {
     "data": {
      "text/plain": [
       "churn        0\n",
       "device       0\n",
       "type_t       0\n",
       "phone        0\n",
       "dealer       0\n",
       "channel      0\n",
       "hardware     0\n",
       "archetype    0\n",
       "group        0\n",
       "market       0\n",
       "date_reg     0\n",
       "client_id    0\n",
       "dtype: int64"
      ]
     },
     "execution_count": 8,
     "metadata": {},
     "output_type": "execute_result"
    }
   ],
   "source": [
    "# количество пропущеных значений категориальных признаков после замены\n",
    "(general_df.isnull().sum()).sort_values(ascending=False)"
   ]
  },
  {
   "cell_type": "code",
   "execution_count": 9,
   "metadata": {},
   "outputs": [],
   "source": [
    "# приведение даты активаци к типу дата\n",
    "general_df['date_reg'] = pd.to_datetime(general_df['date_reg'], format=\"%Y-%m-%d\")\n",
    "\n",
    "# приведение целевой переменной к целому типу\n",
    "general_df['churn'] = general_df['churn'].astype('int64')"
   ]
  },
  {
   "cell_type": "code",
   "execution_count": 10,
   "metadata": {
    "scrolled": true
   },
   "outputs": [
    {
     "name": "stdout",
     "output_type": "stream",
     "text": [
      "<class 'pandas.core.frame.DataFrame'>\n",
      "RangeIndex: 240000 entries, 0 to 239999\n",
      "Data columns (total 12 columns):\n",
      " #   Column     Non-Null Count   Dtype         \n",
      "---  ------     --------------   -----         \n",
      " 0   client_id  240000 non-null  object        \n",
      " 1   date_reg   240000 non-null  datetime64[ns]\n",
      " 2   market     240000 non-null  object        \n",
      " 3   group      240000 non-null  object        \n",
      " 4   archetype  240000 non-null  object        \n",
      " 5   hardware   240000 non-null  object        \n",
      " 6   channel    240000 non-null  object        \n",
      " 7   dealer     240000 non-null  object        \n",
      " 8   phone      240000 non-null  object        \n",
      " 9   type_t     240000 non-null  object        \n",
      " 10  device     240000 non-null  object        \n",
      " 11  churn      240000 non-null  int64         \n",
      "dtypes: datetime64[ns](1), int64(1), object(10)\n",
      "memory usage: 22.0+ MB\n"
     ]
    }
   ],
   "source": [
    "general_df.info()"
   ]
  },
  {
   "cell_type": "markdown",
   "metadata": {},
   "source": [
    "Всего 240000 абонентов.  \n",
    "\n",
    "Есть пропущенные значения у признаков device, type_t, phone.   \n",
    "Выделяем пропущенные значения как отдельную сущность NAN"
   ]
  },
  {
   "cell_type": "code",
   "execution_count": 11,
   "metadata": {},
   "outputs": [
    {
     "data": {
      "text/plain": [
       "0    141748\n",
       "1     98252\n",
       "Name: churn, dtype: int64"
      ]
     },
     "execution_count": 11,
     "metadata": {},
     "output_type": "execute_result"
    }
   ],
   "source": [
    "# распределение целевой переменной \n",
    "general_df['churn'].value_counts()"
   ]
  },
  {
   "cell_type": "markdown",
   "metadata": {},
   "source": [
    "## traffic\n",
    "Количество/длительность звонков (входящих и исходящих), количество смс, дата."
   ]
  },
  {
   "cell_type": "markdown",
   "metadata": {},
   "source": [
    "#### Признаки\n",
    "- ***client_id*** - идентификатор клиента\n",
    "- ***day*** - номер дня ?? \n",
    "- ***call_in_num*** - количество входящих звонков \n",
    "- ***call_out_num*** - количество исходящих звонков\n",
    "- ***call_in_dur*** - продолжительность входящих звонков\n",
    "- ***call_out_dur*** - продолжительность исходящих звонков\n",
    "- ***sms_out_num*** - исходящие СМС\n",
    "- ***gprs*** - gprs"
   ]
  },
  {
   "cell_type": "code",
   "execution_count": 12,
   "metadata": {},
   "outputs": [
    {
     "data": {
      "text/html": [
       "<div>\n",
       "<style scoped>\n",
       "    .dataframe tbody tr th:only-of-type {\n",
       "        vertical-align: middle;\n",
       "    }\n",
       "\n",
       "    .dataframe tbody tr th {\n",
       "        vertical-align: top;\n",
       "    }\n",
       "\n",
       "    .dataframe thead th {\n",
       "        text-align: right;\n",
       "    }\n",
       "</style>\n",
       "<table border=\"1\" class=\"dataframe\">\n",
       "  <thead>\n",
       "    <tr style=\"text-align: right;\">\n",
       "      <th></th>\n",
       "      <th>client_id</th>\n",
       "      <th>day</th>\n",
       "      <th>call_in_num</th>\n",
       "      <th>call_out_num</th>\n",
       "      <th>call_in_dur</th>\n",
       "      <th>call_out_dur</th>\n",
       "      <th>sms_out_num</th>\n",
       "      <th>gprs</th>\n",
       "    </tr>\n",
       "  </thead>\n",
       "  <tbody>\n",
       "    <tr>\n",
       "      <th>0</th>\n",
       "      <td>09777552-cc75-4f03-9438-11c3a7480f97</td>\n",
       "      <td>7</td>\n",
       "      <td>0.0</td>\n",
       "      <td>3.0</td>\n",
       "      <td>0.0</td>\n",
       "      <td>418.0</td>\n",
       "      <td>0.0</td>\n",
       "      <td>0.0</td>\n",
       "    </tr>\n",
       "    <tr>\n",
       "      <th>1</th>\n",
       "      <td>09777552-cc75-4f03-9438-11c3a7480f97</td>\n",
       "      <td>1</td>\n",
       "      <td>0.0</td>\n",
       "      <td>1.0</td>\n",
       "      <td>0.0</td>\n",
       "      <td>1558.0</td>\n",
       "      <td>0.0</td>\n",
       "      <td>0.0</td>\n",
       "    </tr>\n",
       "    <tr>\n",
       "      <th>2</th>\n",
       "      <td>09777552-cc75-4f03-9438-11c3a7480f97</td>\n",
       "      <td>13</td>\n",
       "      <td>0.0</td>\n",
       "      <td>1.0</td>\n",
       "      <td>0.0</td>\n",
       "      <td>52.0</td>\n",
       "      <td>0.0</td>\n",
       "      <td>0.0</td>\n",
       "    </tr>\n",
       "    <tr>\n",
       "      <th>3</th>\n",
       "      <td>09777552-cc75-4f03-9438-11c3a7480f97</td>\n",
       "      <td>11</td>\n",
       "      <td>0.0</td>\n",
       "      <td>1.0</td>\n",
       "      <td>0.0</td>\n",
       "      <td>84.0</td>\n",
       "      <td>1.0</td>\n",
       "      <td>0.0</td>\n",
       "    </tr>\n",
       "    <tr>\n",
       "      <th>4</th>\n",
       "      <td>09777552-cc75-4f03-9438-11c3a7480f97</td>\n",
       "      <td>3</td>\n",
       "      <td>0.0</td>\n",
       "      <td>2.0</td>\n",
       "      <td>0.0</td>\n",
       "      <td>211.0</td>\n",
       "      <td>4.0</td>\n",
       "      <td>0.0</td>\n",
       "    </tr>\n",
       "  </tbody>\n",
       "</table>\n",
       "</div>"
      ],
      "text/plain": [
       "                              client_id  day  call_in_num  call_out_num  \\\n",
       "0  09777552-cc75-4f03-9438-11c3a7480f97    7          0.0           3.0   \n",
       "1  09777552-cc75-4f03-9438-11c3a7480f97    1          0.0           1.0   \n",
       "2  09777552-cc75-4f03-9438-11c3a7480f97   13          0.0           1.0   \n",
       "3  09777552-cc75-4f03-9438-11c3a7480f97   11          0.0           1.0   \n",
       "4  09777552-cc75-4f03-9438-11c3a7480f97    3          0.0           2.0   \n",
       "\n",
       "   call_in_dur  call_out_dur  sms_out_num  gprs  \n",
       "0          0.0         418.0          0.0   0.0  \n",
       "1          0.0        1558.0          0.0   0.0  \n",
       "2          0.0          52.0          0.0   0.0  \n",
       "3          0.0          84.0          1.0   0.0  \n",
       "4          0.0         211.0          4.0   0.0  "
      ]
     },
     "execution_count": 12,
     "metadata": {},
     "output_type": "execute_result"
    }
   ],
   "source": [
    "traffic_df.head()"
   ]
  },
  {
   "cell_type": "code",
   "execution_count": 13,
   "metadata": {
    "scrolled": true
   },
   "outputs": [
    {
     "name": "stdout",
     "output_type": "stream",
     "text": [
      "<class 'pandas.core.frame.DataFrame'>\n",
      "RangeIndex: 3726461 entries, 0 to 3726460\n",
      "Data columns (total 8 columns):\n",
      " #   Column        Dtype  \n",
      "---  ------        -----  \n",
      " 0   client_id     object \n",
      " 1   day           int64  \n",
      " 2   call_in_num   float64\n",
      " 3   call_out_num  float64\n",
      " 4   call_in_dur   float64\n",
      " 5   call_out_dur  float64\n",
      " 6   sms_out_num   float64\n",
      " 7   gprs          float64\n",
      "dtypes: float64(6), int64(1), object(1)\n",
      "memory usage: 227.4+ MB\n"
     ]
    }
   ],
   "source": [
    "traffic_df.info()"
   ]
  },
  {
   "cell_type": "code",
   "execution_count": 14,
   "metadata": {},
   "outputs": [
    {
     "data": {
      "text/plain": [
       "(3726461, 8)"
      ]
     },
     "execution_count": 14,
     "metadata": {},
     "output_type": "execute_result"
    }
   ],
   "source": [
    "traffic_df.shape"
   ]
  },
  {
   "cell_type": "code",
   "execution_count": 15,
   "metadata": {},
   "outputs": [
    {
     "data": {
      "text/plain": [
       "240000"
      ]
     },
     "execution_count": 15,
     "metadata": {},
     "output_type": "execute_result"
    }
   ],
   "source": [
    "# Количество уникальных клиентов в traffic_df\n",
    "len(traffic_df[['client_id']].stack().value_counts()) "
   ]
  },
  {
   "cell_type": "markdown",
   "metadata": {},
   "source": [
    "## recharge\n",
    "Аггрегированная по дням информация о пополнениях в привязке к абоненту."
   ]
  },
  {
   "cell_type": "markdown",
   "metadata": {},
   "source": []
  },
  {
   "cell_type": "code",
   "execution_count": 16,
   "metadata": {},
   "outputs": [
    {
     "data": {
      "text/html": [
       "<div>\n",
       "<style scoped>\n",
       "    .dataframe tbody tr th:only-of-type {\n",
       "        vertical-align: middle;\n",
       "    }\n",
       "\n",
       "    .dataframe tbody tr th {\n",
       "        vertical-align: top;\n",
       "    }\n",
       "\n",
       "    .dataframe thead th {\n",
       "        text-align: right;\n",
       "    }\n",
       "</style>\n",
       "<table border=\"1\" class=\"dataframe\">\n",
       "  <thead>\n",
       "    <tr style=\"text-align: right;\">\n",
       "      <th></th>\n",
       "      <th>client_id</th>\n",
       "      <th>day</th>\n",
       "      <th>recharges</th>\n",
       "    </tr>\n",
       "  </thead>\n",
       "  <tbody>\n",
       "    <tr>\n",
       "      <th>0</th>\n",
       "      <td>6cac2aeb-1816-498f-ad36-c1f27ee3044a</td>\n",
       "      <td>17.0</td>\n",
       "      <td>333.70400</td>\n",
       "    </tr>\n",
       "    <tr>\n",
       "      <th>1</th>\n",
       "      <td>f1929358-fd06-45cf-a1e5-f5546ad3997a</td>\n",
       "      <td>17.0</td>\n",
       "      <td>634.03760</td>\n",
       "    </tr>\n",
       "    <tr>\n",
       "      <th>2</th>\n",
       "      <td>f1929358-fd06-45cf-a1e5-f5546ad3997a</td>\n",
       "      <td>0.0</td>\n",
       "      <td>734.14880</td>\n",
       "    </tr>\n",
       "    <tr>\n",
       "      <th>3</th>\n",
       "      <td>f1929358-fd06-45cf-a1e5-f5546ad3997a</td>\n",
       "      <td>18.0</td>\n",
       "      <td>333.70400</td>\n",
       "    </tr>\n",
       "    <tr>\n",
       "      <th>4</th>\n",
       "      <td>db6100d4-5e2a-47f5-9e9c-864b875e4984</td>\n",
       "      <td>0.0</td>\n",
       "      <td>6.67408</td>\n",
       "    </tr>\n",
       "  </tbody>\n",
       "</table>\n",
       "</div>"
      ],
      "text/plain": [
       "                              client_id   day  recharges\n",
       "0  6cac2aeb-1816-498f-ad36-c1f27ee3044a  17.0  333.70400\n",
       "1  f1929358-fd06-45cf-a1e5-f5546ad3997a  17.0  634.03760\n",
       "2  f1929358-fd06-45cf-a1e5-f5546ad3997a   0.0  734.14880\n",
       "3  f1929358-fd06-45cf-a1e5-f5546ad3997a  18.0  333.70400\n",
       "4  db6100d4-5e2a-47f5-9e9c-864b875e4984   0.0    6.67408"
      ]
     },
     "execution_count": 16,
     "metadata": {},
     "output_type": "execute_result"
    }
   ],
   "source": [
    "recharge_df.head()"
   ]
  },
  {
   "cell_type": "code",
   "execution_count": 17,
   "metadata": {},
   "outputs": [
    {
     "name": "stdout",
     "output_type": "stream",
     "text": [
      "<class 'pandas.core.frame.DataFrame'>\n",
      "RangeIndex: 467676 entries, 0 to 467675\n",
      "Data columns (total 3 columns):\n",
      " #   Column     Non-Null Count   Dtype  \n",
      "---  ------     --------------   -----  \n",
      " 0   client_id  467676 non-null  object \n",
      " 1   day        467676 non-null  float64\n",
      " 2   recharges  467676 non-null  float64\n",
      "dtypes: float64(2), object(1)\n",
      "memory usage: 10.7+ MB\n"
     ]
    }
   ],
   "source": [
    "recharge_df.info()"
   ]
  },
  {
   "cell_type": "markdown",
   "metadata": {},
   "source": [
    "## balance\n",
    "Информация о балансе абонентов на конец каждого дня."
   ]
  },
  {
   "cell_type": "markdown",
   "metadata": {},
   "source": []
  },
  {
   "cell_type": "code",
   "execution_count": 18,
   "metadata": {},
   "outputs": [
    {
     "data": {
      "text/html": [
       "<div>\n",
       "<style scoped>\n",
       "    .dataframe tbody tr th:only-of-type {\n",
       "        vertical-align: middle;\n",
       "    }\n",
       "\n",
       "    .dataframe tbody tr th {\n",
       "        vertical-align: top;\n",
       "    }\n",
       "\n",
       "    .dataframe thead th {\n",
       "        text-align: right;\n",
       "    }\n",
       "</style>\n",
       "<table border=\"1\" class=\"dataframe\">\n",
       "  <thead>\n",
       "    <tr style=\"text-align: right;\">\n",
       "      <th></th>\n",
       "      <th>client_id</th>\n",
       "      <th>day</th>\n",
       "      <th>balance</th>\n",
       "    </tr>\n",
       "  </thead>\n",
       "  <tbody>\n",
       "    <tr>\n",
       "      <th>0</th>\n",
       "      <td>c602c1cf-71d4-413e-a8fe-c9c76abbb14f</td>\n",
       "      <td>0.0</td>\n",
       "      <td>3225.805111</td>\n",
       "    </tr>\n",
       "    <tr>\n",
       "      <th>1</th>\n",
       "      <td>c602c1cf-71d4-413e-a8fe-c9c76abbb14f</td>\n",
       "      <td>1.0</td>\n",
       "      <td>3114.570222</td>\n",
       "    </tr>\n",
       "    <tr>\n",
       "      <th>2</th>\n",
       "      <td>c602c1cf-71d4-413e-a8fe-c9c76abbb14f</td>\n",
       "      <td>2.0</td>\n",
       "      <td>3003.335333</td>\n",
       "    </tr>\n",
       "    <tr>\n",
       "      <th>3</th>\n",
       "      <td>c602c1cf-71d4-413e-a8fe-c9c76abbb14f</td>\n",
       "      <td>3.0</td>\n",
       "      <td>2892.100443</td>\n",
       "    </tr>\n",
       "    <tr>\n",
       "      <th>4</th>\n",
       "      <td>c602c1cf-71d4-413e-a8fe-c9c76abbb14f</td>\n",
       "      <td>4.0</td>\n",
       "      <td>2780.865554</td>\n",
       "    </tr>\n",
       "  </tbody>\n",
       "</table>\n",
       "</div>"
      ],
      "text/plain": [
       "                              client_id  day      balance\n",
       "0  c602c1cf-71d4-413e-a8fe-c9c76abbb14f  0.0  3225.805111\n",
       "1  c602c1cf-71d4-413e-a8fe-c9c76abbb14f  1.0  3114.570222\n",
       "2  c602c1cf-71d4-413e-a8fe-c9c76abbb14f  2.0  3003.335333\n",
       "3  c602c1cf-71d4-413e-a8fe-c9c76abbb14f  3.0  2892.100443\n",
       "4  c602c1cf-71d4-413e-a8fe-c9c76abbb14f  4.0  2780.865554"
      ]
     },
     "execution_count": 18,
     "metadata": {},
     "output_type": "execute_result"
    }
   ],
   "source": [
    "balance_df.head()"
   ]
  },
  {
   "cell_type": "code",
   "execution_count": 19,
   "metadata": {},
   "outputs": [
    {
     "name": "stdout",
     "output_type": "stream",
     "text": [
      "<class 'pandas.core.frame.DataFrame'>\n",
      "RangeIndex: 7200000 entries, 0 to 7199999\n",
      "Data columns (total 3 columns):\n",
      " #   Column     Dtype  \n",
      "---  ------     -----  \n",
      " 0   client_id  object \n",
      " 1   day        float64\n",
      " 2   balance    float64\n",
      "dtypes: float64(2), object(1)\n",
      "memory usage: 164.8+ MB\n"
     ]
    }
   ],
   "source": [
    "balance_df.info()"
   ]
  },
  {
   "cell_type": "markdown",
   "metadata": {},
   "source": [
    "## Агрегация данных по id абонента "
   ]
  },
  {
   "cell_type": "markdown",
   "metadata": {},
   "source": [
    "### traffic"
   ]
  },
  {
   "cell_type": "code",
   "execution_count": 20,
   "metadata": {
    "scrolled": true
   },
   "outputs": [
    {
     "data": {
      "text/html": [
       "<div>\n",
       "<style scoped>\n",
       "    .dataframe tbody tr th:only-of-type {\n",
       "        vertical-align: middle;\n",
       "    }\n",
       "\n",
       "    .dataframe tbody tr th {\n",
       "        vertical-align: top;\n",
       "    }\n",
       "\n",
       "    .dataframe thead th {\n",
       "        text-align: right;\n",
       "    }\n",
       "</style>\n",
       "<table border=\"1\" class=\"dataframe\">\n",
       "  <thead>\n",
       "    <tr style=\"text-align: right;\">\n",
       "      <th></th>\n",
       "      <th>client_id</th>\n",
       "      <th>day</th>\n",
       "      <th>call_in_num</th>\n",
       "      <th>call_out_num</th>\n",
       "      <th>call_in_dur</th>\n",
       "      <th>call_out_dur</th>\n",
       "      <th>sms_out_num</th>\n",
       "      <th>gprs</th>\n",
       "    </tr>\n",
       "  </thead>\n",
       "  <tbody>\n",
       "    <tr>\n",
       "      <th>0</th>\n",
       "      <td>09777552-cc75-4f03-9438-11c3a7480f97</td>\n",
       "      <td>7</td>\n",
       "      <td>0.0</td>\n",
       "      <td>3.0</td>\n",
       "      <td>0.0</td>\n",
       "      <td>418.0</td>\n",
       "      <td>0.0</td>\n",
       "      <td>0.0</td>\n",
       "    </tr>\n",
       "    <tr>\n",
       "      <th>1</th>\n",
       "      <td>09777552-cc75-4f03-9438-11c3a7480f97</td>\n",
       "      <td>1</td>\n",
       "      <td>0.0</td>\n",
       "      <td>1.0</td>\n",
       "      <td>0.0</td>\n",
       "      <td>1558.0</td>\n",
       "      <td>0.0</td>\n",
       "      <td>0.0</td>\n",
       "    </tr>\n",
       "    <tr>\n",
       "      <th>2</th>\n",
       "      <td>09777552-cc75-4f03-9438-11c3a7480f97</td>\n",
       "      <td>13</td>\n",
       "      <td>0.0</td>\n",
       "      <td>1.0</td>\n",
       "      <td>0.0</td>\n",
       "      <td>52.0</td>\n",
       "      <td>0.0</td>\n",
       "      <td>0.0</td>\n",
       "    </tr>\n",
       "    <tr>\n",
       "      <th>3</th>\n",
       "      <td>09777552-cc75-4f03-9438-11c3a7480f97</td>\n",
       "      <td>11</td>\n",
       "      <td>0.0</td>\n",
       "      <td>1.0</td>\n",
       "      <td>0.0</td>\n",
       "      <td>84.0</td>\n",
       "      <td>1.0</td>\n",
       "      <td>0.0</td>\n",
       "    </tr>\n",
       "    <tr>\n",
       "      <th>4</th>\n",
       "      <td>09777552-cc75-4f03-9438-11c3a7480f97</td>\n",
       "      <td>3</td>\n",
       "      <td>0.0</td>\n",
       "      <td>2.0</td>\n",
       "      <td>0.0</td>\n",
       "      <td>211.0</td>\n",
       "      <td>4.0</td>\n",
       "      <td>0.0</td>\n",
       "    </tr>\n",
       "  </tbody>\n",
       "</table>\n",
       "</div>"
      ],
      "text/plain": [
       "                              client_id  day  call_in_num  call_out_num  \\\n",
       "0  09777552-cc75-4f03-9438-11c3a7480f97    7          0.0           3.0   \n",
       "1  09777552-cc75-4f03-9438-11c3a7480f97    1          0.0           1.0   \n",
       "2  09777552-cc75-4f03-9438-11c3a7480f97   13          0.0           1.0   \n",
       "3  09777552-cc75-4f03-9438-11c3a7480f97   11          0.0           1.0   \n",
       "4  09777552-cc75-4f03-9438-11c3a7480f97    3          0.0           2.0   \n",
       "\n",
       "   call_in_dur  call_out_dur  sms_out_num  gprs  \n",
       "0          0.0         418.0          0.0   0.0  \n",
       "1          0.0        1558.0          0.0   0.0  \n",
       "2          0.0          52.0          0.0   0.0  \n",
       "3          0.0          84.0          1.0   0.0  \n",
       "4          0.0         211.0          4.0   0.0  "
      ]
     },
     "execution_count": 20,
     "metadata": {},
     "output_type": "execute_result"
    }
   ],
   "source": [
    "traffic_df.head()"
   ]
  },
  {
   "cell_type": "markdown",
   "metadata": {},
   "source": [
    "Возможные новые признаки трафика по абоненту:\n",
    "- количество дней активности трафика\n",
    "- общее количество исх./вх. звонков\n",
    "- общая продолжительность исх./вх. звонков\n",
    "- общее количество SMS\n",
    "- сумма gprs\n",
    "\n",
    "\n",
    "- средняя продолжительность исх./вх. звонков\n",
    "- общее количество звонков\n",
    "- общая продолжительность звонков\n",
    "- среднее количество звонков за активный день\n",
    "\n",
    "\n",
    "- ? мксимальный день активности трафика"
   ]
  },
  {
   "cell_type": "code",
   "execution_count": 21,
   "metadata": {},
   "outputs": [],
   "source": [
    "traffic_df['max_day'] = traffic_df['day']\n",
    "\n",
    "# группируем данные\n",
    "traffic_agg = traffic_df.groupby('client_id', as_index=False).aggregate({\n",
    "    # количество дней активности трафика\n",
    "    'day': 'count',\n",
    "    # общее количество вх. звонков\n",
    "    'call_in_num': 'sum',\n",
    "    # общее количество исх. звонков\n",
    "    'call_out_num': 'sum',\n",
    "    # общая продолжительность вх. звонков\n",
    "    'call_in_dur': 'sum',\n",
    "    # общая продолжительность исх. звонков\n",
    "    'call_out_dur': 'sum',\n",
    "    # общее количество SMS\n",
    "    'sms_out_num': 'sum',\n",
    "    # сумма gprs\n",
    "    'gprs': 'sum',\n",
    "    # последний номер дня активности трафика за месяц\n",
    "    'max_day': 'max'}).rename(columns={\n",
    "                                    'day':'quantity_days_traffic', \n",
    "                                    'call_in_num': 'all_call_in_num',\n",
    "                                    'call_out_num': 'all_call_out_num',\n",
    "                                    'call_in_dur': 'all_call_in_dur',\n",
    "                                    'call_out_dur': 'all_call_out_dur',\n",
    "                                    'sms_out_num': 'all_out_sms',\n",
    "                                    'gprs': 'all_gprs',\n",
    "                                    'max_day': 'last_day_traffic'})\n",
    "\n",
    "# средняя продолжительность вх. звонков\n",
    "traffic_agg['mean_call_in_dur'] = traffic_agg['all_call_in_dur'] / traffic_agg['all_call_in_num']\n",
    "# средняя продолжительность исх. звонков\n",
    "traffic_agg['mean_call_out_dur'] = traffic_agg['all_call_out_dur'] / traffic_agg['all_call_out_num']\n",
    "# общее количество звонков\n",
    "traffic_agg['all_calls_num'] = traffic_agg['all_call_in_num'] + traffic_agg['all_call_out_num']\n",
    "# общая продолжительность звонков\n",
    "traffic_agg['all_calls_dur'] = traffic_agg['all_call_in_dur'] + traffic_agg['all_call_out_dur']\n",
    "# корректированный последний день активности трафика\n",
    "traffic_agg['last_day_traffic'] = traffic_agg['last_day_traffic'] + 1\n",
    "\n",
    "# избавляемся от пропусков из-за деления на 0\n",
    "traffic_agg = traffic_agg.fillna(0)\n",
    "\n",
    "del traffic_df['max_day']"
   ]
  },
  {
   "cell_type": "code",
   "execution_count": 22,
   "metadata": {},
   "outputs": [
    {
     "data": {
      "text/html": [
       "<div>\n",
       "<style scoped>\n",
       "    .dataframe tbody tr th:only-of-type {\n",
       "        vertical-align: middle;\n",
       "    }\n",
       "\n",
       "    .dataframe tbody tr th {\n",
       "        vertical-align: top;\n",
       "    }\n",
       "\n",
       "    .dataframe thead th {\n",
       "        text-align: right;\n",
       "    }\n",
       "</style>\n",
       "<table border=\"1\" class=\"dataframe\">\n",
       "  <thead>\n",
       "    <tr style=\"text-align: right;\">\n",
       "      <th></th>\n",
       "      <th>client_id</th>\n",
       "      <th>quantity_days_traffic</th>\n",
       "      <th>all_call_in_num</th>\n",
       "      <th>all_call_out_num</th>\n",
       "      <th>all_call_in_dur</th>\n",
       "      <th>all_call_out_dur</th>\n",
       "      <th>all_out_sms</th>\n",
       "      <th>all_gprs</th>\n",
       "      <th>last_day_traffic</th>\n",
       "      <th>mean_call_in_dur</th>\n",
       "      <th>mean_call_out_dur</th>\n",
       "      <th>all_calls_num</th>\n",
       "      <th>all_calls_dur</th>\n",
       "    </tr>\n",
       "  </thead>\n",
       "  <tbody>\n",
       "    <tr>\n",
       "      <th>0</th>\n",
       "      <td>000015c6-94a3-4989-861a-ebd71c848c68</td>\n",
       "      <td>29</td>\n",
       "      <td>102.0</td>\n",
       "      <td>250.0</td>\n",
       "      <td>16542.0</td>\n",
       "      <td>44359.0</td>\n",
       "      <td>13.0</td>\n",
       "      <td>0.00000</td>\n",
       "      <td>30</td>\n",
       "      <td>162.176471</td>\n",
       "      <td>177.436000</td>\n",
       "      <td>352.0</td>\n",
       "      <td>60901.0</td>\n",
       "    </tr>\n",
       "    <tr>\n",
       "      <th>1</th>\n",
       "      <td>00007210-4b79-4845-bdcc-b3621e65e2bf</td>\n",
       "      <td>1</td>\n",
       "      <td>0.0</td>\n",
       "      <td>0.0</td>\n",
       "      <td>0.0</td>\n",
       "      <td>0.0</td>\n",
       "      <td>4.0</td>\n",
       "      <td>0.00000</td>\n",
       "      <td>1</td>\n",
       "      <td>0.000000</td>\n",
       "      <td>0.000000</td>\n",
       "      <td>0.0</td>\n",
       "      <td>0.0</td>\n",
       "    </tr>\n",
       "    <tr>\n",
       "      <th>2</th>\n",
       "      <td>0000a503-c107-4578-9410-be301f142013</td>\n",
       "      <td>6</td>\n",
       "      <td>7.0</td>\n",
       "      <td>34.0</td>\n",
       "      <td>586.0</td>\n",
       "      <td>1131.0</td>\n",
       "      <td>4.0</td>\n",
       "      <td>0.00000</td>\n",
       "      <td>17</td>\n",
       "      <td>83.714286</td>\n",
       "      <td>33.264706</td>\n",
       "      <td>41.0</td>\n",
       "      <td>1717.0</td>\n",
       "    </tr>\n",
       "    <tr>\n",
       "      <th>3</th>\n",
       "      <td>0000d08d-2a6f-4f84-b660-298678c422f7</td>\n",
       "      <td>1</td>\n",
       "      <td>0.0</td>\n",
       "      <td>0.0</td>\n",
       "      <td>0.0</td>\n",
       "      <td>0.0</td>\n",
       "      <td>0.0</td>\n",
       "      <td>14.20827</td>\n",
       "      <td>1</td>\n",
       "      <td>0.000000</td>\n",
       "      <td>0.000000</td>\n",
       "      <td>0.0</td>\n",
       "      <td>0.0</td>\n",
       "    </tr>\n",
       "    <tr>\n",
       "      <th>4</th>\n",
       "      <td>0000e8f2-3741-4196-8d7f-c19ff7a10453</td>\n",
       "      <td>30</td>\n",
       "      <td>192.0</td>\n",
       "      <td>785.0</td>\n",
       "      <td>14098.0</td>\n",
       "      <td>40953.0</td>\n",
       "      <td>19.0</td>\n",
       "      <td>0.00000</td>\n",
       "      <td>30</td>\n",
       "      <td>73.427083</td>\n",
       "      <td>52.169427</td>\n",
       "      <td>977.0</td>\n",
       "      <td>55051.0</td>\n",
       "    </tr>\n",
       "  </tbody>\n",
       "</table>\n",
       "</div>"
      ],
      "text/plain": [
       "                              client_id  quantity_days_traffic  \\\n",
       "0  000015c6-94a3-4989-861a-ebd71c848c68                     29   \n",
       "1  00007210-4b79-4845-bdcc-b3621e65e2bf                      1   \n",
       "2  0000a503-c107-4578-9410-be301f142013                      6   \n",
       "3  0000d08d-2a6f-4f84-b660-298678c422f7                      1   \n",
       "4  0000e8f2-3741-4196-8d7f-c19ff7a10453                     30   \n",
       "\n",
       "   all_call_in_num  all_call_out_num  all_call_in_dur  all_call_out_dur  \\\n",
       "0            102.0             250.0          16542.0           44359.0   \n",
       "1              0.0               0.0              0.0               0.0   \n",
       "2              7.0              34.0            586.0            1131.0   \n",
       "3              0.0               0.0              0.0               0.0   \n",
       "4            192.0             785.0          14098.0           40953.0   \n",
       "\n",
       "   all_out_sms  all_gprs  last_day_traffic  mean_call_in_dur  \\\n",
       "0         13.0   0.00000                30        162.176471   \n",
       "1          4.0   0.00000                 1          0.000000   \n",
       "2          4.0   0.00000                17         83.714286   \n",
       "3          0.0  14.20827                 1          0.000000   \n",
       "4         19.0   0.00000                30         73.427083   \n",
       "\n",
       "   mean_call_out_dur  all_calls_num  all_calls_dur  \n",
       "0         177.436000          352.0        60901.0  \n",
       "1           0.000000            0.0            0.0  \n",
       "2          33.264706           41.0         1717.0  \n",
       "3           0.000000            0.0            0.0  \n",
       "4          52.169427          977.0        55051.0  "
      ]
     },
     "execution_count": 22,
     "metadata": {},
     "output_type": "execute_result"
    }
   ],
   "source": [
    "traffic_agg.head()"
   ]
  },
  {
   "cell_type": "code",
   "execution_count": 23,
   "metadata": {},
   "outputs": [
    {
     "data": {
      "text/plain": [
       "240000"
      ]
     },
     "execution_count": 23,
     "metadata": {},
     "output_type": "execute_result"
    }
   ],
   "source": [
    "# Количество уникальных абонентов \n",
    "len(traffic_agg[['client_id']].stack().value_counts()) "
   ]
  },
  {
   "cell_type": "markdown",
   "metadata": {},
   "source": [
    "### recharge"
   ]
  },
  {
   "cell_type": "code",
   "execution_count": 24,
   "metadata": {},
   "outputs": [
    {
     "data": {
      "text/html": [
       "<div>\n",
       "<style scoped>\n",
       "    .dataframe tbody tr th:only-of-type {\n",
       "        vertical-align: middle;\n",
       "    }\n",
       "\n",
       "    .dataframe tbody tr th {\n",
       "        vertical-align: top;\n",
       "    }\n",
       "\n",
       "    .dataframe thead th {\n",
       "        text-align: right;\n",
       "    }\n",
       "</style>\n",
       "<table border=\"1\" class=\"dataframe\">\n",
       "  <thead>\n",
       "    <tr style=\"text-align: right;\">\n",
       "      <th></th>\n",
       "      <th>client_id</th>\n",
       "      <th>day</th>\n",
       "      <th>recharges</th>\n",
       "    </tr>\n",
       "  </thead>\n",
       "  <tbody>\n",
       "    <tr>\n",
       "      <th>0</th>\n",
       "      <td>6cac2aeb-1816-498f-ad36-c1f27ee3044a</td>\n",
       "      <td>17.0</td>\n",
       "      <td>333.70400</td>\n",
       "    </tr>\n",
       "    <tr>\n",
       "      <th>1</th>\n",
       "      <td>f1929358-fd06-45cf-a1e5-f5546ad3997a</td>\n",
       "      <td>17.0</td>\n",
       "      <td>634.03760</td>\n",
       "    </tr>\n",
       "    <tr>\n",
       "      <th>2</th>\n",
       "      <td>f1929358-fd06-45cf-a1e5-f5546ad3997a</td>\n",
       "      <td>0.0</td>\n",
       "      <td>734.14880</td>\n",
       "    </tr>\n",
       "    <tr>\n",
       "      <th>3</th>\n",
       "      <td>f1929358-fd06-45cf-a1e5-f5546ad3997a</td>\n",
       "      <td>18.0</td>\n",
       "      <td>333.70400</td>\n",
       "    </tr>\n",
       "    <tr>\n",
       "      <th>4</th>\n",
       "      <td>db6100d4-5e2a-47f5-9e9c-864b875e4984</td>\n",
       "      <td>0.0</td>\n",
       "      <td>6.67408</td>\n",
       "    </tr>\n",
       "  </tbody>\n",
       "</table>\n",
       "</div>"
      ],
      "text/plain": [
       "                              client_id   day  recharges\n",
       "0  6cac2aeb-1816-498f-ad36-c1f27ee3044a  17.0  333.70400\n",
       "1  f1929358-fd06-45cf-a1e5-f5546ad3997a  17.0  634.03760\n",
       "2  f1929358-fd06-45cf-a1e5-f5546ad3997a   0.0  734.14880\n",
       "3  f1929358-fd06-45cf-a1e5-f5546ad3997a  18.0  333.70400\n",
       "4  db6100d4-5e2a-47f5-9e9c-864b875e4984   0.0    6.67408"
      ]
     },
     "execution_count": 24,
     "metadata": {},
     "output_type": "execute_result"
    }
   ],
   "source": [
    "recharge_df.head()"
   ]
  },
  {
   "cell_type": "markdown",
   "metadata": {},
   "source": [
    "Возможные новые признаки пополнений по абоненту:\n",
    "- количество пополнений\n",
    "- общая сумма пополнений\n",
    "\n",
    "\n",
    "- средняя сумма пополнений \n",
    "- максимальный номер дня пополнения в месяце"
   ]
  },
  {
   "cell_type": "code",
   "execution_count": 25,
   "metadata": {},
   "outputs": [],
   "source": [
    "recharge_df['max_day'] = recharge_df['day']\n",
    "# группируем данные\n",
    "recharge_agg = recharge_df.groupby('client_id', as_index=False).aggregate({\n",
    "    # количество пополнений\n",
    "    'day': 'count',\n",
    "    # общая сумма пополнений\n",
    "    'recharges': 'sum',\n",
    "    # поледний день пополнения\n",
    "    'max_day': 'max'}).rename(columns={\n",
    "                                    'day':'quantity_recharge', \n",
    "                                    'recharges': 'recharges_sum',\n",
    "                                    'max_day': 'last_day_recharge'})\n",
    "\n",
    "# средняя сумма пополнений\n",
    "recharge_agg['mean_recharges_sum'] = recharge_agg['recharges_sum'] / recharge_agg['quantity_recharge']\n",
    "# корректированный последний день активности трафика\n",
    "recharge_agg['last_day_recharge'] = recharge_agg['last_day_recharge'] + 1\n",
    "\n",
    "# избавляемся от пропусков из-за деления на 0\n",
    "recharge_agg = recharge_agg.fillna(0)\n",
    "\n",
    "del recharge_df['max_day']"
   ]
  },
  {
   "cell_type": "code",
   "execution_count": 26,
   "metadata": {},
   "outputs": [
    {
     "data": {
      "text/html": [
       "<div>\n",
       "<style scoped>\n",
       "    .dataframe tbody tr th:only-of-type {\n",
       "        vertical-align: middle;\n",
       "    }\n",
       "\n",
       "    .dataframe tbody tr th {\n",
       "        vertical-align: top;\n",
       "    }\n",
       "\n",
       "    .dataframe thead th {\n",
       "        text-align: right;\n",
       "    }\n",
       "</style>\n",
       "<table border=\"1\" class=\"dataframe\">\n",
       "  <thead>\n",
       "    <tr style=\"text-align: right;\">\n",
       "      <th></th>\n",
       "      <th>client_id</th>\n",
       "      <th>quantity_recharge</th>\n",
       "      <th>recharges_sum</th>\n",
       "      <th>last_day_recharge</th>\n",
       "      <th>mean_recharges_sum</th>\n",
       "    </tr>\n",
       "  </thead>\n",
       "  <tbody>\n",
       "    <tr>\n",
       "      <th>0</th>\n",
       "      <td>000015c6-94a3-4989-861a-ebd71c848c68</td>\n",
       "      <td>1</td>\n",
       "      <td>2002.224000</td>\n",
       "      <td>21.0</td>\n",
       "      <td>2002.224000</td>\n",
       "    </tr>\n",
       "    <tr>\n",
       "      <th>1</th>\n",
       "      <td>0000a503-c107-4578-9410-be301f142013</td>\n",
       "      <td>2</td>\n",
       "      <td>2549.632042</td>\n",
       "      <td>8.0</td>\n",
       "      <td>1274.816021</td>\n",
       "    </tr>\n",
       "    <tr>\n",
       "      <th>2</th>\n",
       "      <td>000184d3-beee-432b-aede-453203a223b8</td>\n",
       "      <td>1</td>\n",
       "      <td>7341.488000</td>\n",
       "      <td>3.0</td>\n",
       "      <td>7341.488000</td>\n",
       "    </tr>\n",
       "    <tr>\n",
       "      <th>3</th>\n",
       "      <td>0001c87e-ddf6-43da-b3be-1266ec9faeba</td>\n",
       "      <td>13</td>\n",
       "      <td>9150.897829</td>\n",
       "      <td>30.0</td>\n",
       "      <td>703.915218</td>\n",
       "    </tr>\n",
       "    <tr>\n",
       "      <th>4</th>\n",
       "      <td>000266c3-8081-4b84-8f80-1e44afb6d935</td>\n",
       "      <td>9</td>\n",
       "      <td>1915.460960</td>\n",
       "      <td>30.0</td>\n",
       "      <td>212.828996</td>\n",
       "    </tr>\n",
       "  </tbody>\n",
       "</table>\n",
       "</div>"
      ],
      "text/plain": [
       "                              client_id  quantity_recharge  recharges_sum  \\\n",
       "0  000015c6-94a3-4989-861a-ebd71c848c68                  1    2002.224000   \n",
       "1  0000a503-c107-4578-9410-be301f142013                  2    2549.632042   \n",
       "2  000184d3-beee-432b-aede-453203a223b8                  1    7341.488000   \n",
       "3  0001c87e-ddf6-43da-b3be-1266ec9faeba                 13    9150.897829   \n",
       "4  000266c3-8081-4b84-8f80-1e44afb6d935                  9    1915.460960   \n",
       "\n",
       "   last_day_recharge  mean_recharges_sum  \n",
       "0               21.0         2002.224000  \n",
       "1                8.0         1274.816021  \n",
       "2                3.0         7341.488000  \n",
       "3               30.0          703.915218  \n",
       "4               30.0          212.828996  "
      ]
     },
     "execution_count": 26,
     "metadata": {},
     "output_type": "execute_result"
    }
   ],
   "source": [
    "recharge_agg.head()"
   ]
  },
  {
   "cell_type": "code",
   "execution_count": 27,
   "metadata": {},
   "outputs": [
    {
     "data": {
      "text/plain": [
       "153321"
      ]
     },
     "execution_count": 27,
     "metadata": {},
     "output_type": "execute_result"
    }
   ],
   "source": [
    "# Количество уникальных абонентов \n",
    "len(recharge_agg[['client_id']].stack().value_counts()) "
   ]
  },
  {
   "cell_type": "code",
   "execution_count": 28,
   "metadata": {},
   "outputs": [
    {
     "data": {
      "text/plain": [
       "-86679"
      ]
     },
     "execution_count": 28,
     "metadata": {},
     "output_type": "execute_result"
    }
   ],
   "source": [
    "len(recharge_agg[['client_id']].stack().value_counts()) - 240000"
   ]
  },
  {
   "cell_type": "markdown",
   "metadata": {},
   "source": [
    "86679 абонентов в первый месяц не пополняли баланс"
   ]
  },
  {
   "cell_type": "markdown",
   "metadata": {},
   "source": [
    "### balance"
   ]
  },
  {
   "cell_type": "code",
   "execution_count": 29,
   "metadata": {},
   "outputs": [
    {
     "data": {
      "text/html": [
       "<div>\n",
       "<style scoped>\n",
       "    .dataframe tbody tr th:only-of-type {\n",
       "        vertical-align: middle;\n",
       "    }\n",
       "\n",
       "    .dataframe tbody tr th {\n",
       "        vertical-align: top;\n",
       "    }\n",
       "\n",
       "    .dataframe thead th {\n",
       "        text-align: right;\n",
       "    }\n",
       "</style>\n",
       "<table border=\"1\" class=\"dataframe\">\n",
       "  <thead>\n",
       "    <tr style=\"text-align: right;\">\n",
       "      <th></th>\n",
       "      <th>client_id</th>\n",
       "      <th>day</th>\n",
       "      <th>balance</th>\n",
       "    </tr>\n",
       "  </thead>\n",
       "  <tbody>\n",
       "    <tr>\n",
       "      <th>0</th>\n",
       "      <td>c602c1cf-71d4-413e-a8fe-c9c76abbb14f</td>\n",
       "      <td>0.0</td>\n",
       "      <td>3225.805111</td>\n",
       "    </tr>\n",
       "    <tr>\n",
       "      <th>1</th>\n",
       "      <td>c602c1cf-71d4-413e-a8fe-c9c76abbb14f</td>\n",
       "      <td>1.0</td>\n",
       "      <td>3114.570222</td>\n",
       "    </tr>\n",
       "    <tr>\n",
       "      <th>2</th>\n",
       "      <td>c602c1cf-71d4-413e-a8fe-c9c76abbb14f</td>\n",
       "      <td>2.0</td>\n",
       "      <td>3003.335333</td>\n",
       "    </tr>\n",
       "    <tr>\n",
       "      <th>3</th>\n",
       "      <td>c602c1cf-71d4-413e-a8fe-c9c76abbb14f</td>\n",
       "      <td>3.0</td>\n",
       "      <td>2892.100443</td>\n",
       "    </tr>\n",
       "    <tr>\n",
       "      <th>4</th>\n",
       "      <td>c602c1cf-71d4-413e-a8fe-c9c76abbb14f</td>\n",
       "      <td>4.0</td>\n",
       "      <td>2780.865554</td>\n",
       "    </tr>\n",
       "  </tbody>\n",
       "</table>\n",
       "</div>"
      ],
      "text/plain": [
       "                              client_id  day      balance\n",
       "0  c602c1cf-71d4-413e-a8fe-c9c76abbb14f  0.0  3225.805111\n",
       "1  c602c1cf-71d4-413e-a8fe-c9c76abbb14f  1.0  3114.570222\n",
       "2  c602c1cf-71d4-413e-a8fe-c9c76abbb14f  2.0  3003.335333\n",
       "3  c602c1cf-71d4-413e-a8fe-c9c76abbb14f  3.0  2892.100443\n",
       "4  c602c1cf-71d4-413e-a8fe-c9c76abbb14f  4.0  2780.865554"
      ]
     },
     "execution_count": 29,
     "metadata": {},
     "output_type": "execute_result"
    }
   ],
   "source": [
    "balance_df.head()"
   ]
  },
  {
   "cell_type": "markdown",
   "metadata": {},
   "source": [
    "Возможные новые признаки баланса по абоненту:\n",
    "- начальный баланс\n",
    "- конечный быланс\n",
    "- разница между начальным и конечным балансом\n",
    "- средний баланс в первый месяц\n",
    "- ??? отрицательность конечного баланса\n",
    "\n",
    "\n",
    "- ??? дисперсия баланса\n",
    "- ??? размах \n",
    "- ??? медиана\n"
   ]
  },
  {
   "cell_type": "code",
   "execution_count": 30,
   "metadata": {},
   "outputs": [],
   "source": [
    "# начальный баланс\n",
    "balance_start = balance_df[balance_df['day'] == 0.0]\n",
    "# конечный баланс\n",
    "balance_final = balance_df[balance_df['day'] == 29.0]\n",
    "# средний баданс \n",
    "balance_mean = balance_df.groupby('client_id', as_index=False).aggregate({\n",
    "    'balance': 'mean'}).rename(columns={'balance': 'mean_balance'})"
   ]
  },
  {
   "cell_type": "code",
   "execution_count": 31,
   "metadata": {},
   "outputs": [
    {
     "data": {
      "text/html": [
       "<div>\n",
       "<style scoped>\n",
       "    .dataframe tbody tr th:only-of-type {\n",
       "        vertical-align: middle;\n",
       "    }\n",
       "\n",
       "    .dataframe tbody tr th {\n",
       "        vertical-align: top;\n",
       "    }\n",
       "\n",
       "    .dataframe thead th {\n",
       "        text-align: right;\n",
       "    }\n",
       "</style>\n",
       "<table border=\"1\" class=\"dataframe\">\n",
       "  <thead>\n",
       "    <tr style=\"text-align: right;\">\n",
       "      <th></th>\n",
       "      <th>client_id</th>\n",
       "      <th>mean_balance</th>\n",
       "      <th>start_balance</th>\n",
       "      <th>final_balance</th>\n",
       "      <th>difference_balance</th>\n",
       "    </tr>\n",
       "  </thead>\n",
       "  <tbody>\n",
       "    <tr>\n",
       "      <th>0</th>\n",
       "      <td>000015c6-94a3-4989-861a-ebd71c848c68</td>\n",
       "      <td>948.164299</td>\n",
       "      <td>1268.075200</td>\n",
       "      <td>1041.156480</td>\n",
       "      <td>-226.918720</td>\n",
       "    </tr>\n",
       "    <tr>\n",
       "      <th>1</th>\n",
       "      <td>00007210-4b79-4845-bdcc-b3621e65e2bf</td>\n",
       "      <td>-20.044487</td>\n",
       "      <td>96.774160</td>\n",
       "      <td>-37.374848</td>\n",
       "      <td>-134.149008</td>\n",
       "    </tr>\n",
       "    <tr>\n",
       "      <th>2</th>\n",
       "      <td>0000a503-c107-4578-9410-be301f142013</td>\n",
       "      <td>2514.250519</td>\n",
       "      <td>3225.849827</td>\n",
       "      <td>1176.106378</td>\n",
       "      <td>-2049.743450</td>\n",
       "    </tr>\n",
       "    <tr>\n",
       "      <th>3</th>\n",
       "      <td>0000d08d-2a6f-4f84-b660-298678c422f7</td>\n",
       "      <td>-1668.520000</td>\n",
       "      <td>-1668.520000</td>\n",
       "      <td>-1668.520000</td>\n",
       "      <td>0.000000</td>\n",
       "    </tr>\n",
       "    <tr>\n",
       "      <th>4</th>\n",
       "      <td>0000e8f2-3741-4196-8d7f-c19ff7a10453</td>\n",
       "      <td>282.091115</td>\n",
       "      <td>310.344720</td>\n",
       "      <td>210.233520</td>\n",
       "      <td>-100.111200</td>\n",
       "    </tr>\n",
       "  </tbody>\n",
       "</table>\n",
       "</div>"
      ],
      "text/plain": [
       "                              client_id  mean_balance  start_balance  \\\n",
       "0  000015c6-94a3-4989-861a-ebd71c848c68    948.164299    1268.075200   \n",
       "1  00007210-4b79-4845-bdcc-b3621e65e2bf    -20.044487      96.774160   \n",
       "2  0000a503-c107-4578-9410-be301f142013   2514.250519    3225.849827   \n",
       "3  0000d08d-2a6f-4f84-b660-298678c422f7  -1668.520000   -1668.520000   \n",
       "4  0000e8f2-3741-4196-8d7f-c19ff7a10453    282.091115     310.344720   \n",
       "\n",
       "   final_balance  difference_balance  \n",
       "0    1041.156480         -226.918720  \n",
       "1     -37.374848         -134.149008  \n",
       "2    1176.106378        -2049.743450  \n",
       "3   -1668.520000            0.000000  \n",
       "4     210.233520         -100.111200  "
      ]
     },
     "execution_count": 31,
     "metadata": {},
     "output_type": "execute_result"
    }
   ],
   "source": [
    "# подсоединяю началтный баланс\n",
    "balance_mean = pd.merge(balance_mean,\n",
    "                        balance_start,\n",
    "                        on=['client_id'])\n",
    "del balance_mean['day']\n",
    "balance_mean = balance_mean.rename(columns={'balance': 'start_balance'})\n",
    "\n",
    "# подсоединяю конечный баланс\n",
    "balance_mean = pd.merge(balance_mean,\n",
    "                        balance_final,\n",
    "                        on=['client_id'])\n",
    "del balance_mean['day']\n",
    "balance_mean = balance_mean.rename(columns={'balance': 'final_balance'})\n",
    "\n",
    "balance_agg = balance_mean\n",
    "\n",
    "# разница начального и конечного баланса\n",
    "balance_agg['difference_balance'] = balance_agg['final_balance'] - balance_agg['start_balance']\n",
    "\n",
    "balance_agg.head()"
   ]
  },
  {
   "cell_type": "code",
   "execution_count": 32,
   "metadata": {},
   "outputs": [
    {
     "data": {
      "text/plain": [
       "240000"
      ]
     },
     "execution_count": 32,
     "metadata": {},
     "output_type": "execute_result"
    }
   ],
   "source": [
    "# Количество уникальных абонентов \n",
    "len(balance_agg[['client_id']].stack().value_counts()) "
   ]
  },
  {
   "cell_type": "markdown",
   "metadata": {},
   "source": [
    "## Объединение данных"
   ]
  },
  {
   "cell_type": "code",
   "execution_count": 33,
   "metadata": {},
   "outputs": [],
   "source": [
    "df = general_df.copy()\n",
    "df = df.merge(traffic_agg, how='left', on='client_id')\n",
    "df = df.merge(recharge_agg, how='left', on='client_id')\n",
    "df = df.merge(balance_agg, how='left', on='client_id')"
   ]
  },
  {
   "cell_type": "code",
   "execution_count": 34,
   "metadata": {},
   "outputs": [
    {
     "data": {
      "text/html": [
       "<div>\n",
       "<style scoped>\n",
       "    .dataframe tbody tr th:only-of-type {\n",
       "        vertical-align: middle;\n",
       "    }\n",
       "\n",
       "    .dataframe tbody tr th {\n",
       "        vertical-align: top;\n",
       "    }\n",
       "\n",
       "    .dataframe thead th {\n",
       "        text-align: right;\n",
       "    }\n",
       "</style>\n",
       "<table border=\"1\" class=\"dataframe\">\n",
       "  <thead>\n",
       "    <tr style=\"text-align: right;\">\n",
       "      <th></th>\n",
       "      <th>client_id</th>\n",
       "      <th>date_reg</th>\n",
       "      <th>market</th>\n",
       "      <th>group</th>\n",
       "      <th>archetype</th>\n",
       "      <th>hardware</th>\n",
       "      <th>channel</th>\n",
       "      <th>dealer</th>\n",
       "      <th>phone</th>\n",
       "      <th>type_t</th>\n",
       "      <th>...</th>\n",
       "      <th>all_calls_num</th>\n",
       "      <th>all_calls_dur</th>\n",
       "      <th>quantity_recharge</th>\n",
       "      <th>recharges_sum</th>\n",
       "      <th>last_day_recharge</th>\n",
       "      <th>mean_recharges_sum</th>\n",
       "      <th>mean_balance</th>\n",
       "      <th>start_balance</th>\n",
       "      <th>final_balance</th>\n",
       "      <th>difference_balance</th>\n",
       "    </tr>\n",
       "  </thead>\n",
       "  <tbody>\n",
       "    <tr>\n",
       "      <th>0</th>\n",
       "      <td>09777552-cc75-4f03-9438-11c3a7480f97</td>\n",
       "      <td>2016-05-10</td>\n",
       "      <td>R25</td>\n",
       "      <td>PP1_9</td>\n",
       "      <td>PP2_0</td>\n",
       "      <td>PPT1</td>\n",
       "      <td>C1_22</td>\n",
       "      <td>C2_22</td>\n",
       "      <td>D2254</td>\n",
       "      <td>DT1_6</td>\n",
       "      <td>...</td>\n",
       "      <td>19.0</td>\n",
       "      <td>6506.0</td>\n",
       "      <td>1.0</td>\n",
       "      <td>1001.11200</td>\n",
       "      <td>1.0</td>\n",
       "      <td>1001.112000</td>\n",
       "      <td>1202.535734</td>\n",
       "      <td>2269.187200</td>\n",
       "      <td>1.334816</td>\n",
       "      <td>-2267.852384</td>\n",
       "    </tr>\n",
       "    <tr>\n",
       "      <th>1</th>\n",
       "      <td>5fbe2ea9-0c80-4164-b703-416b85c23d8c</td>\n",
       "      <td>2016-04-19</td>\n",
       "      <td>R25</td>\n",
       "      <td>PP1_9</td>\n",
       "      <td>PP2_0</td>\n",
       "      <td>PPT1</td>\n",
       "      <td>C1_6</td>\n",
       "      <td>C2_0</td>\n",
       "      <td>NAN</td>\n",
       "      <td>NAN</td>\n",
       "      <td>...</td>\n",
       "      <td>546.0</td>\n",
       "      <td>27599.0</td>\n",
       "      <td>2.0</td>\n",
       "      <td>5526.13824</td>\n",
       "      <td>13.0</td>\n",
       "      <td>2763.069120</td>\n",
       "      <td>1006.985190</td>\n",
       "      <td>2378.642112</td>\n",
       "      <td>447.830768</td>\n",
       "      <td>-1930.811344</td>\n",
       "    </tr>\n",
       "    <tr>\n",
       "      <th>2</th>\n",
       "      <td>8cbd48c0-8f90-4f08-bef7-8f09d9924e55</td>\n",
       "      <td>2016-05-19</td>\n",
       "      <td>R25</td>\n",
       "      <td>PP1_9</td>\n",
       "      <td>PP2_0</td>\n",
       "      <td>PPT1</td>\n",
       "      <td>C1_6</td>\n",
       "      <td>C2_0</td>\n",
       "      <td>D2594</td>\n",
       "      <td>DT1_6</td>\n",
       "      <td>...</td>\n",
       "      <td>476.0</td>\n",
       "      <td>141308.0</td>\n",
       "      <td>9.0</td>\n",
       "      <td>7014.45808</td>\n",
       "      <td>30.0</td>\n",
       "      <td>779.384231</td>\n",
       "      <td>291.946506</td>\n",
       "      <td>1134.593600</td>\n",
       "      <td>1355.505648</td>\n",
       "      <td>220.912048</td>\n",
       "    </tr>\n",
       "    <tr>\n",
       "      <th>3</th>\n",
       "      <td>ffda8d15-cd38-45c3-84ba-29a9811ed79e</td>\n",
       "      <td>2016-05-28</td>\n",
       "      <td>R25</td>\n",
       "      <td>PP1_9</td>\n",
       "      <td>PP2_0</td>\n",
       "      <td>PPT1</td>\n",
       "      <td>C1_22</td>\n",
       "      <td>C2_11</td>\n",
       "      <td>D3131</td>\n",
       "      <td>DT1_6</td>\n",
       "      <td>...</td>\n",
       "      <td>31.0</td>\n",
       "      <td>2931.0</td>\n",
       "      <td>NaN</td>\n",
       "      <td>NaN</td>\n",
       "      <td>NaN</td>\n",
       "      <td>NaN</td>\n",
       "      <td>406.673941</td>\n",
       "      <td>1268.075200</td>\n",
       "      <td>-40.044480</td>\n",
       "      <td>-1308.119680</td>\n",
       "    </tr>\n",
       "    <tr>\n",
       "      <th>4</th>\n",
       "      <td>1f9618ad-a980-4110-af32-9741e491a728</td>\n",
       "      <td>2016-05-23</td>\n",
       "      <td>R4</td>\n",
       "      <td>PP1_9</td>\n",
       "      <td>PP2_0</td>\n",
       "      <td>PPT1</td>\n",
       "      <td>C1_28</td>\n",
       "      <td>C2_21</td>\n",
       "      <td>D454</td>\n",
       "      <td>DT1_6</td>\n",
       "      <td>...</td>\n",
       "      <td>9.0</td>\n",
       "      <td>213.0</td>\n",
       "      <td>1.0</td>\n",
       "      <td>6674.08000</td>\n",
       "      <td>1.0</td>\n",
       "      <td>6674.080000</td>\n",
       "      <td>0.000000</td>\n",
       "      <td>0.000000</td>\n",
       "      <td>0.000000</td>\n",
       "      <td>0.000000</td>\n",
       "    </tr>\n",
       "  </tbody>\n",
       "</table>\n",
       "<p>5 rows × 32 columns</p>\n",
       "</div>"
      ],
      "text/plain": [
       "                              client_id   date_reg market  group archetype  \\\n",
       "0  09777552-cc75-4f03-9438-11c3a7480f97 2016-05-10    R25  PP1_9     PP2_0   \n",
       "1  5fbe2ea9-0c80-4164-b703-416b85c23d8c 2016-04-19    R25  PP1_9     PP2_0   \n",
       "2  8cbd48c0-8f90-4f08-bef7-8f09d9924e55 2016-05-19    R25  PP1_9     PP2_0   \n",
       "3  ffda8d15-cd38-45c3-84ba-29a9811ed79e 2016-05-28    R25  PP1_9     PP2_0   \n",
       "4  1f9618ad-a980-4110-af32-9741e491a728 2016-05-23     R4  PP1_9     PP2_0   \n",
       "\n",
       "  hardware channel dealer  phone type_t  ... all_calls_num  all_calls_dur  \\\n",
       "0     PPT1   C1_22  C2_22  D2254  DT1_6  ...          19.0         6506.0   \n",
       "1     PPT1    C1_6   C2_0    NAN    NAN  ...         546.0        27599.0   \n",
       "2     PPT1    C1_6   C2_0  D2594  DT1_6  ...         476.0       141308.0   \n",
       "3     PPT1   C1_22  C2_11  D3131  DT1_6  ...          31.0         2931.0   \n",
       "4     PPT1   C1_28  C2_21   D454  DT1_6  ...           9.0          213.0   \n",
       "\n",
       "   quantity_recharge  recharges_sum  last_day_recharge  mean_recharges_sum  \\\n",
       "0                1.0     1001.11200                1.0         1001.112000   \n",
       "1                2.0     5526.13824               13.0         2763.069120   \n",
       "2                9.0     7014.45808               30.0          779.384231   \n",
       "3                NaN            NaN                NaN                 NaN   \n",
       "4                1.0     6674.08000                1.0         6674.080000   \n",
       "\n",
       "   mean_balance  start_balance  final_balance  difference_balance  \n",
       "0   1202.535734    2269.187200       1.334816        -2267.852384  \n",
       "1   1006.985190    2378.642112     447.830768        -1930.811344  \n",
       "2    291.946506    1134.593600    1355.505648          220.912048  \n",
       "3    406.673941    1268.075200     -40.044480        -1308.119680  \n",
       "4      0.000000       0.000000       0.000000            0.000000  \n",
       "\n",
       "[5 rows x 32 columns]"
      ]
     },
     "execution_count": 34,
     "metadata": {},
     "output_type": "execute_result"
    }
   ],
   "source": [
    "df.head()"
   ]
  },
  {
   "cell_type": "code",
   "execution_count": 35,
   "metadata": {},
   "outputs": [
    {
     "data": {
      "text/plain": [
       "Index(['client_id', 'date_reg', 'market', 'group', 'archetype', 'hardware',\n",
       "       'channel', 'dealer', 'phone', 'type_t', 'device', 'churn',\n",
       "       'quantity_days_traffic', 'all_call_in_num', 'all_call_out_num',\n",
       "       'all_call_in_dur', 'all_call_out_dur', 'all_out_sms', 'all_gprs',\n",
       "       'last_day_traffic', 'mean_call_in_dur', 'mean_call_out_dur',\n",
       "       'all_calls_num', 'all_calls_dur', 'quantity_recharge', 'recharges_sum',\n",
       "       'last_day_recharge', 'mean_recharges_sum', 'mean_balance',\n",
       "       'start_balance', 'final_balance', 'difference_balance'],\n",
       "      dtype='object')"
      ]
     },
     "execution_count": 35,
     "metadata": {},
     "output_type": "execute_result"
    }
   ],
   "source": [
    "df.columns"
   ]
  },
  {
   "cell_type": "code",
   "execution_count": 36,
   "metadata": {},
   "outputs": [
    {
     "name": "stdout",
     "output_type": "stream",
     "text": [
      "<class 'pandas.core.frame.DataFrame'>\n",
      "Int64Index: 240000 entries, 0 to 239999\n",
      "Data columns (total 32 columns):\n",
      " #   Column                 Non-Null Count   Dtype         \n",
      "---  ------                 --------------   -----         \n",
      " 0   client_id              240000 non-null  object        \n",
      " 1   date_reg               240000 non-null  datetime64[ns]\n",
      " 2   market                 240000 non-null  object        \n",
      " 3   group                  240000 non-null  object        \n",
      " 4   archetype              240000 non-null  object        \n",
      " 5   hardware               240000 non-null  object        \n",
      " 6   channel                240000 non-null  object        \n",
      " 7   dealer                 240000 non-null  object        \n",
      " 8   phone                  240000 non-null  object        \n",
      " 9   type_t                 240000 non-null  object        \n",
      " 10  device                 240000 non-null  object        \n",
      " 11  churn                  240000 non-null  int64         \n",
      " 12  quantity_days_traffic  240000 non-null  int64         \n",
      " 13  all_call_in_num        240000 non-null  float64       \n",
      " 14  all_call_out_num       240000 non-null  float64       \n",
      " 15  all_call_in_dur        240000 non-null  float64       \n",
      " 16  all_call_out_dur       240000 non-null  float64       \n",
      " 17  all_out_sms            240000 non-null  float64       \n",
      " 18  all_gprs               240000 non-null  float64       \n",
      " 19  last_day_traffic       240000 non-null  int64         \n",
      " 20  mean_call_in_dur       240000 non-null  float64       \n",
      " 21  mean_call_out_dur      240000 non-null  float64       \n",
      " 22  all_calls_num          240000 non-null  float64       \n",
      " 23  all_calls_dur          240000 non-null  float64       \n",
      " 24  quantity_recharge      153321 non-null  float64       \n",
      " 25  recharges_sum          153321 non-null  float64       \n",
      " 26  last_day_recharge      153321 non-null  float64       \n",
      " 27  mean_recharges_sum     153321 non-null  float64       \n",
      " 28  mean_balance           240000 non-null  float64       \n",
      " 29  start_balance          240000 non-null  float64       \n",
      " 30  final_balance          240000 non-null  float64       \n",
      " 31  difference_balance     240000 non-null  float64       \n",
      "dtypes: datetime64[ns](1), float64(18), int64(3), object(10)\n",
      "memory usage: 60.4+ MB\n"
     ]
    }
   ],
   "source": [
    "df.info()"
   ]
  },
  {
   "cell_type": "code",
   "execution_count": 38,
   "metadata": {},
   "outputs": [
    {
     "name": "stdout",
     "output_type": "stream",
     "text": [
      "<class 'pandas.core.frame.DataFrame'>\n",
      "Int64Index: 240000 entries, 0 to 239999\n",
      "Data columns (total 32 columns):\n",
      " #   Column                 Non-Null Count   Dtype         \n",
      "---  ------                 --------------   -----         \n",
      " 0   client_id              240000 non-null  object        \n",
      " 1   date_reg               240000 non-null  datetime64[ns]\n",
      " 2   market                 240000 non-null  object        \n",
      " 3   group                  240000 non-null  object        \n",
      " 4   archetype              240000 non-null  object        \n",
      " 5   hardware               240000 non-null  object        \n",
      " 6   channel                240000 non-null  object        \n",
      " 7   dealer                 240000 non-null  object        \n",
      " 8   phone                  240000 non-null  object        \n",
      " 9   type_t                 240000 non-null  object        \n",
      " 10  device                 240000 non-null  object        \n",
      " 11  churn                  240000 non-null  int64         \n",
      " 12  quantity_days_traffic  240000 non-null  int64         \n",
      " 13  all_call_in_num        240000 non-null  float64       \n",
      " 14  all_call_out_num       240000 non-null  float64       \n",
      " 15  all_call_in_dur        240000 non-null  float64       \n",
      " 16  all_call_out_dur       240000 non-null  float64       \n",
      " 17  all_out_sms            240000 non-null  float64       \n",
      " 18  all_gprs               240000 non-null  float64       \n",
      " 19  last_day_traffic       240000 non-null  int64         \n",
      " 20  mean_call_in_dur       240000 non-null  float64       \n",
      " 21  mean_call_out_dur      240000 non-null  float64       \n",
      " 22  all_calls_num          240000 non-null  float64       \n",
      " 23  all_calls_dur          240000 non-null  float64       \n",
      " 24  quantity_recharge      240000 non-null  float64       \n",
      " 25  recharges_sum          240000 non-null  float64       \n",
      " 26  last_day_recharge      240000 non-null  float64       \n",
      " 27  mean_recharges_sum     240000 non-null  float64       \n",
      " 28  mean_balance           240000 non-null  float64       \n",
      " 29  start_balance          240000 non-null  float64       \n",
      " 30  final_balance          240000 non-null  float64       \n",
      " 31  difference_balance     240000 non-null  float64       \n",
      "dtypes: datetime64[ns](1), float64(18), int64(3), object(10)\n",
      "memory usage: 60.4+ MB\n"
     ]
    }
   ],
   "source": [
    "'''\n",
    "признаки с пропусками\n",
    "quantity_recharge - количество пополнений            \n",
    "recharges_sum - сумма пополнени                \n",
    "last_day_recharge - крайний день пополнения в месяце            \n",
    "mean_recharges_sum - средняя сумма пополнений\n",
    "\n",
    "замена пропущенных значений признаков на 0, так как эти пропуски по клиентам, которые е совершали пополнений.\n",
    "'''\n",
    "df = df.fillna(0)\n",
    "df.info()"
   ]
  },
  {
   "cell_type": "markdown",
   "metadata": {},
   "source": [
    "В итоговом df 30 признаков. \n",
    "- 10 категориальных \n",
    "- 20 числовых"
   ]
  },
  {
   "cell_type": "code",
   "execution_count": 39,
   "metadata": {
    "scrolled": true
   },
   "outputs": [
    {
     "data": {
      "text/plain": [
       "0.4093833333333333"
      ]
     },
     "execution_count": 39,
     "metadata": {},
     "output_type": "execute_result"
    }
   ],
   "source": [
    "# % оттока пользователей\n",
    "df['churn'].mean()"
   ]
  },
  {
   "cell_type": "markdown",
   "metadata": {},
   "source": [
    "# визуализация\n",
    "# ..."
   ]
  },
  {
   "cell_type": "code",
   "execution_count": 40,
   "metadata": {},
   "outputs": [
    {
     "data": {
      "text/html": [
       "<div>\n",
       "<style scoped>\n",
       "    .dataframe tbody tr th:only-of-type {\n",
       "        vertical-align: middle;\n",
       "    }\n",
       "\n",
       "    .dataframe tbody tr th {\n",
       "        vertical-align: top;\n",
       "    }\n",
       "\n",
       "    .dataframe thead th {\n",
       "        text-align: right;\n",
       "    }\n",
       "</style>\n",
       "<table border=\"1\" class=\"dataframe\">\n",
       "  <thead>\n",
       "    <tr style=\"text-align: right;\">\n",
       "      <th></th>\n",
       "      <th>client_id</th>\n",
       "      <th>date_reg</th>\n",
       "      <th>market</th>\n",
       "      <th>group</th>\n",
       "      <th>archetype</th>\n",
       "      <th>hardware</th>\n",
       "      <th>channel</th>\n",
       "      <th>dealer</th>\n",
       "      <th>phone</th>\n",
       "      <th>type_t</th>\n",
       "      <th>...</th>\n",
       "      <th>all_calls_num</th>\n",
       "      <th>all_calls_dur</th>\n",
       "      <th>quantity_recharge</th>\n",
       "      <th>recharges_sum</th>\n",
       "      <th>last_day_recharge</th>\n",
       "      <th>mean_recharges_sum</th>\n",
       "      <th>mean_balance</th>\n",
       "      <th>start_balance</th>\n",
       "      <th>final_balance</th>\n",
       "      <th>difference_balance</th>\n",
       "    </tr>\n",
       "  </thead>\n",
       "  <tbody>\n",
       "    <tr>\n",
       "      <th>0</th>\n",
       "      <td>09777552-cc75-4f03-9438-11c3a7480f97</td>\n",
       "      <td>2016-05-10</td>\n",
       "      <td>R25</td>\n",
       "      <td>PP1_9</td>\n",
       "      <td>PP2_0</td>\n",
       "      <td>PPT1</td>\n",
       "      <td>C1_22</td>\n",
       "      <td>C2_22</td>\n",
       "      <td>D2254</td>\n",
       "      <td>DT1_6</td>\n",
       "      <td>...</td>\n",
       "      <td>19.0</td>\n",
       "      <td>6506.0</td>\n",
       "      <td>1.0</td>\n",
       "      <td>1001.11200</td>\n",
       "      <td>1.0</td>\n",
       "      <td>1001.112000</td>\n",
       "      <td>1202.535734</td>\n",
       "      <td>2269.187200</td>\n",
       "      <td>1.334816</td>\n",
       "      <td>-2267.852384</td>\n",
       "    </tr>\n",
       "    <tr>\n",
       "      <th>1</th>\n",
       "      <td>5fbe2ea9-0c80-4164-b703-416b85c23d8c</td>\n",
       "      <td>2016-04-19</td>\n",
       "      <td>R25</td>\n",
       "      <td>PP1_9</td>\n",
       "      <td>PP2_0</td>\n",
       "      <td>PPT1</td>\n",
       "      <td>C1_6</td>\n",
       "      <td>C2_0</td>\n",
       "      <td>NAN</td>\n",
       "      <td>NAN</td>\n",
       "      <td>...</td>\n",
       "      <td>546.0</td>\n",
       "      <td>27599.0</td>\n",
       "      <td>2.0</td>\n",
       "      <td>5526.13824</td>\n",
       "      <td>13.0</td>\n",
       "      <td>2763.069120</td>\n",
       "      <td>1006.985190</td>\n",
       "      <td>2378.642112</td>\n",
       "      <td>447.830768</td>\n",
       "      <td>-1930.811344</td>\n",
       "    </tr>\n",
       "    <tr>\n",
       "      <th>2</th>\n",
       "      <td>8cbd48c0-8f90-4f08-bef7-8f09d9924e55</td>\n",
       "      <td>2016-05-19</td>\n",
       "      <td>R25</td>\n",
       "      <td>PP1_9</td>\n",
       "      <td>PP2_0</td>\n",
       "      <td>PPT1</td>\n",
       "      <td>C1_6</td>\n",
       "      <td>C2_0</td>\n",
       "      <td>D2594</td>\n",
       "      <td>DT1_6</td>\n",
       "      <td>...</td>\n",
       "      <td>476.0</td>\n",
       "      <td>141308.0</td>\n",
       "      <td>9.0</td>\n",
       "      <td>7014.45808</td>\n",
       "      <td>30.0</td>\n",
       "      <td>779.384231</td>\n",
       "      <td>291.946506</td>\n",
       "      <td>1134.593600</td>\n",
       "      <td>1355.505648</td>\n",
       "      <td>220.912048</td>\n",
       "    </tr>\n",
       "    <tr>\n",
       "      <th>3</th>\n",
       "      <td>ffda8d15-cd38-45c3-84ba-29a9811ed79e</td>\n",
       "      <td>2016-05-28</td>\n",
       "      <td>R25</td>\n",
       "      <td>PP1_9</td>\n",
       "      <td>PP2_0</td>\n",
       "      <td>PPT1</td>\n",
       "      <td>C1_22</td>\n",
       "      <td>C2_11</td>\n",
       "      <td>D3131</td>\n",
       "      <td>DT1_6</td>\n",
       "      <td>...</td>\n",
       "      <td>31.0</td>\n",
       "      <td>2931.0</td>\n",
       "      <td>0.0</td>\n",
       "      <td>0.00000</td>\n",
       "      <td>0.0</td>\n",
       "      <td>0.000000</td>\n",
       "      <td>406.673941</td>\n",
       "      <td>1268.075200</td>\n",
       "      <td>-40.044480</td>\n",
       "      <td>-1308.119680</td>\n",
       "    </tr>\n",
       "    <tr>\n",
       "      <th>4</th>\n",
       "      <td>1f9618ad-a980-4110-af32-9741e491a728</td>\n",
       "      <td>2016-05-23</td>\n",
       "      <td>R4</td>\n",
       "      <td>PP1_9</td>\n",
       "      <td>PP2_0</td>\n",
       "      <td>PPT1</td>\n",
       "      <td>C1_28</td>\n",
       "      <td>C2_21</td>\n",
       "      <td>D454</td>\n",
       "      <td>DT1_6</td>\n",
       "      <td>...</td>\n",
       "      <td>9.0</td>\n",
       "      <td>213.0</td>\n",
       "      <td>1.0</td>\n",
       "      <td>6674.08000</td>\n",
       "      <td>1.0</td>\n",
       "      <td>6674.080000</td>\n",
       "      <td>0.000000</td>\n",
       "      <td>0.000000</td>\n",
       "      <td>0.000000</td>\n",
       "      <td>0.000000</td>\n",
       "    </tr>\n",
       "  </tbody>\n",
       "</table>\n",
       "<p>5 rows × 32 columns</p>\n",
       "</div>"
      ],
      "text/plain": [
       "                              client_id   date_reg market  group archetype  \\\n",
       "0  09777552-cc75-4f03-9438-11c3a7480f97 2016-05-10    R25  PP1_9     PP2_0   \n",
       "1  5fbe2ea9-0c80-4164-b703-416b85c23d8c 2016-04-19    R25  PP1_9     PP2_0   \n",
       "2  8cbd48c0-8f90-4f08-bef7-8f09d9924e55 2016-05-19    R25  PP1_9     PP2_0   \n",
       "3  ffda8d15-cd38-45c3-84ba-29a9811ed79e 2016-05-28    R25  PP1_9     PP2_0   \n",
       "4  1f9618ad-a980-4110-af32-9741e491a728 2016-05-23     R4  PP1_9     PP2_0   \n",
       "\n",
       "  hardware channel dealer  phone type_t  ... all_calls_num  all_calls_dur  \\\n",
       "0     PPT1   C1_22  C2_22  D2254  DT1_6  ...          19.0         6506.0   \n",
       "1     PPT1    C1_6   C2_0    NAN    NAN  ...         546.0        27599.0   \n",
       "2     PPT1    C1_6   C2_0  D2594  DT1_6  ...         476.0       141308.0   \n",
       "3     PPT1   C1_22  C2_11  D3131  DT1_6  ...          31.0         2931.0   \n",
       "4     PPT1   C1_28  C2_21   D454  DT1_6  ...           9.0          213.0   \n",
       "\n",
       "   quantity_recharge  recharges_sum  last_day_recharge  mean_recharges_sum  \\\n",
       "0                1.0     1001.11200                1.0         1001.112000   \n",
       "1                2.0     5526.13824               13.0         2763.069120   \n",
       "2                9.0     7014.45808               30.0          779.384231   \n",
       "3                0.0        0.00000                0.0            0.000000   \n",
       "4                1.0     6674.08000                1.0         6674.080000   \n",
       "\n",
       "   mean_balance  start_balance  final_balance  difference_balance  \n",
       "0   1202.535734    2269.187200       1.334816        -2267.852384  \n",
       "1   1006.985190    2378.642112     447.830768        -1930.811344  \n",
       "2    291.946506    1134.593600    1355.505648          220.912048  \n",
       "3    406.673941    1268.075200     -40.044480        -1308.119680  \n",
       "4      0.000000       0.000000       0.000000            0.000000  \n",
       "\n",
       "[5 rows x 32 columns]"
      ]
     },
     "execution_count": 40,
     "metadata": {},
     "output_type": "execute_result"
    }
   ],
   "source": [
    "df.head()"
   ]
  },
  {
   "cell_type": "code",
   "execution_count": 43,
   "metadata": {},
   "outputs": [],
   "source": [
    "df.to_csv('DataFrame.csv', sep=',', index=False)"
   ]
  },
  {
   "cell_type": "code",
   "execution_count": null,
   "metadata": {},
   "outputs": [],
   "source": []
  },
  {
   "cell_type": "code",
   "execution_count": null,
   "metadata": {},
   "outputs": [],
   "source": []
  },
  {
   "cell_type": "code",
   "execution_count": null,
   "metadata": {},
   "outputs": [],
   "source": []
  },
  {
   "cell_type": "code",
   "execution_count": null,
   "metadata": {},
   "outputs": [],
   "source": []
  },
  {
   "cell_type": "code",
   "execution_count": null,
   "metadata": {},
   "outputs": [],
   "source": []
  },
  {
   "cell_type": "code",
   "execution_count": null,
   "metadata": {},
   "outputs": [],
   "source": []
  },
  {
   "cell_type": "code",
   "execution_count": null,
   "metadata": {},
   "outputs": [],
   "source": []
  },
  {
   "cell_type": "code",
   "execution_count": null,
   "metadata": {},
   "outputs": [],
   "source": []
  },
  {
   "cell_type": "code",
   "execution_count": null,
   "metadata": {},
   "outputs": [],
   "source": []
  }
 ],
 "metadata": {
  "kernelspec": {
   "display_name": "Python 3",
   "language": "python",
   "name": "python3"
  },
  "language_info": {
   "codemirror_mode": {
    "name": "ipython",
    "version": 3
   },
   "file_extension": ".py",
   "mimetype": "text/x-python",
   "name": "python",
   "nbconvert_exporter": "python",
   "pygments_lexer": "ipython3",
   "version": "3.7.9"
  }
 },
 "nbformat": 4,
 "nbformat_minor": 4
}
